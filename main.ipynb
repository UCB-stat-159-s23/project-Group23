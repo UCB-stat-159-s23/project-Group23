{
 "cells": [
  {
   "cell_type": "code",
   "execution_count": 12,
   "id": "45f5ef43-3c9c-410e-8d2a-4b7f76c967c7",
   "metadata": {},
   "outputs": [
    {
     "name": "stderr",
     "output_type": "stream",
     "text": [
      "/tmp/ipykernel_815/2888823295.py:2: DeprecationWarning: Importing display from IPython.core.display is deprecated since IPython 7.14, please import from IPython display\n",
      "  from IPython.core.display import HTML, Image, display\n"
     ]
    }
   ],
   "source": [
    "from pathlib import Path\n",
    "from IPython.display import HTML"
   ]
  },
  {
   "cell_type": "markdown",
   "id": "066c58d4-680b-4235-a354-2cb29aa4e858",
   "metadata": {
    "tags": [],
    "user_expressions": []
   },
   "source": [
    "# The Effects of COVID-19 on Bart Ridership"
   ]
  },
  {
   "cell_type": "markdown",
   "id": "1de522d8-9856-4062-a527-f934929043da",
   "metadata": {
    "user_expressions": []
   },
   "source": [
    "## Noor's plots"
   ]
  },
  {
   "cell_type": "code",
   "execution_count": null,
   "id": "c4546414-ab3d-486b-9bd2-bae8bbf208ee",
   "metadata": {},
   "outputs": [],
   "source": []
  },
  {
   "cell_type": "code",
   "execution_count": 14,
   "id": "59b55bd7-c2fb-42de-973c-56ff57653025",
   "metadata": {},
   "outputs": [
    {
     "data": {
      "text/html": [
       "<!DOCTYPE html>\n",
       "<html>\n",
       "<head>\n",
       "    \n",
       "    <meta http-equiv=\"content-type\" content=\"text/html; charset=UTF-8\" />\n",
       "    \n",
       "        <script>\n",
       "            L_NO_TOUCH = false;\n",
       "            L_DISABLE_3D = false;\n",
       "        </script>\n",
       "    \n",
       "    <style>html, body {width: 100%;height: 100%;margin: 0;padding: 0;}</style>\n",
       "    <style>#map {position:absolute;top:0;bottom:0;right:0;left:0;}</style>\n",
       "    <script src=\"https://cdn.jsdelivr.net/npm/leaflet@1.9.3/dist/leaflet.js\"></script>\n",
       "    <script src=\"https://code.jquery.com/jquery-1.12.4.min.js\"></script>\n",
       "    <script src=\"https://cdn.jsdelivr.net/npm/bootstrap@5.2.2/dist/js/bootstrap.bundle.min.js\"></script>\n",
       "    <script src=\"https://cdnjs.cloudflare.com/ajax/libs/Leaflet.awesome-markers/2.0.2/leaflet.awesome-markers.js\"></script>\n",
       "    <link rel=\"stylesheet\" href=\"https://cdn.jsdelivr.net/npm/leaflet@1.9.3/dist/leaflet.css\"/>\n",
       "    <link rel=\"stylesheet\" href=\"https://cdn.jsdelivr.net/npm/bootstrap@5.2.2/dist/css/bootstrap.min.css\"/>\n",
       "    <link rel=\"stylesheet\" href=\"https://netdna.bootstrapcdn.com/bootstrap/3.0.0/css/bootstrap.min.css\"/>\n",
       "    <link rel=\"stylesheet\" href=\"https://cdn.jsdelivr.net/npm/@fortawesome/fontawesome-free@6.2.0/css/all.min.css\"/>\n",
       "    <link rel=\"stylesheet\" href=\"https://cdnjs.cloudflare.com/ajax/libs/Leaflet.awesome-markers/2.0.2/leaflet.awesome-markers.css\"/>\n",
       "    <link rel=\"stylesheet\" href=\"https://cdn.jsdelivr.net/gh/python-visualization/folium/folium/templates/leaflet.awesome.rotate.min.css\"/>\n",
       "    \n",
       "            <meta name=\"viewport\" content=\"width=device-width,\n",
       "                initial-scale=1.0, maximum-scale=1.0, user-scalable=no\" />\n",
       "            <style>\n",
       "                #map_6f34a3bbabb17f37fff1859cc59366d4 {\n",
       "                    position: relative;\n",
       "                    width: 100.0%;\n",
       "                    height: 100.0%;\n",
       "                    left: 0.0%;\n",
       "                    top: 0.0%;\n",
       "                }\n",
       "                .leaflet-container { font-size: 1rem; }\n",
       "            </style>\n",
       "        \n",
       "</head>\n",
       "<body>\n",
       "    \n",
       "    \n",
       "            <div class=\"folium-map\" id=\"map_6f34a3bbabb17f37fff1859cc59366d4\" ></div>\n",
       "        \n",
       "</body>\n",
       "<script>\n",
       "    \n",
       "    \n",
       "            var map_6f34a3bbabb17f37fff1859cc59366d4 = L.map(\n",
       "                \"map_6f34a3bbabb17f37fff1859cc59366d4\",\n",
       "                {\n",
       "                    center: [37.78656375, -122.4051605],\n",
       "                    crs: L.CRS.EPSG3857,\n",
       "                    zoom: 15,\n",
       "                    zoomControl: true,\n",
       "                    preferCanvas: false,\n",
       "                }\n",
       "            );\n",
       "\n",
       "            \n",
       "\n",
       "        \n",
       "    \n",
       "            var tile_layer_621db97be603c2d1eb032b6797172007 = L.tileLayer(\n",
       "                \"https://cartodb-basemaps-{s}.global.ssl.fastly.net/light_all/{z}/{x}/{y}.png\",\n",
       "                {\"attribution\": \"\\u0026copy; \\u003ca target=\\\"_blank\\\" href=\\\"http://www.openstreetmap.org/copyright\\\"\\u003eOpenStreetMap\\u003c/a\\u003e contributors \\u0026copy; \\u003ca target=\\\"_blank\\\" href=\\\"http://cartodb.com/attributions\\\"\\u003eCartoDB\\u003c/a\\u003e, CartoDB \\u003ca target=\\\"_blank\\\" href =\\\"http://cartodb.com/attributions\\\"\\u003eattributions\\u003c/a\\u003e\", \"detectRetina\": false, \"maxNativeZoom\": 18, \"maxZoom\": 18, \"minZoom\": 0, \"noWrap\": false, \"opacity\": 1, \"subdomains\": \"abc\", \"tms\": false}\n",
       "            ).addTo(map_6f34a3bbabb17f37fff1859cc59366d4);\n",
       "        \n",
       "    \n",
       "            var circle_e534f6cab9eacd38ab6f5aee84fd42e7 = L.circle(\n",
       "                [37.7929, -122.397],\n",
       "                {\"bubblingMouseEvents\": true, \"color\": \"crimson\", \"dashArray\": null, \"dashOffset\": null, \"fill\": true, \"fillColor\": \"crimson\", \"fillOpacity\": 0.2, \"fillRule\": \"evenodd\", \"lineCap\": \"round\", \"lineJoin\": \"round\", \"opacity\": 1.0, \"radius\": 327.46375244963, \"stroke\": true, \"weight\": 3}\n",
       "            ).addTo(map_6f34a3bbabb17f37fff1859cc59366d4);\n",
       "        \n",
       "    \n",
       "            circle_e534f6cab9eacd38ab6f5aee84fd42e7.bindTooltip(\n",
       "                `<div>\n",
       "                     Embarcadero: -86%\n",
       "                 </div>`,\n",
       "                {\"sticky\": true}\n",
       "            );\n",
       "        \n",
       "    \n",
       "            var circle_ddbf112b8cd0e63b478688de7ef56b91 = L.circle(\n",
       "                [37.789355, -122.401942],\n",
       "                {\"bubblingMouseEvents\": true, \"color\": \"crimson\", \"dashArray\": null, \"dashOffset\": null, \"fill\": true, \"fillColor\": \"crimson\", \"fillOpacity\": 0.2, \"fillRule\": \"evenodd\", \"lineCap\": \"round\", \"lineJoin\": \"round\", \"opacity\": 1.0, \"radius\": 334.74300199856003, \"stroke\": true, \"weight\": 3}\n",
       "            ).addTo(map_6f34a3bbabb17f37fff1859cc59366d4);\n",
       "        \n",
       "    \n",
       "            circle_ddbf112b8cd0e63b478688de7ef56b91.bindTooltip(\n",
       "                `<div>\n",
       "                     Montgomery Street: -88%\n",
       "                 </div>`,\n",
       "                {\"sticky\": true}\n",
       "            );\n",
       "        \n",
       "    \n",
       "            var circle_5f95d1ae28d3a98db700c445996d95e5 = L.circle(\n",
       "                [37.7844, -122.408],\n",
       "                {\"bubblingMouseEvents\": true, \"color\": \"crimson\", \"dashArray\": null, \"dashOffset\": null, \"fill\": true, \"fillColor\": \"crimson\", \"fillOpacity\": 0.2, \"fillRule\": \"evenodd\", \"lineCap\": \"round\", \"lineJoin\": \"round\", \"opacity\": 1.0, \"radius\": 284.05399255828894, \"stroke\": true, \"weight\": 3}\n",
       "            ).addTo(map_6f34a3bbabb17f37fff1859cc59366d4);\n",
       "        \n",
       "    \n",
       "            circle_5f95d1ae28d3a98db700c445996d95e5.bindTooltip(\n",
       "                `<div>\n",
       "                     Powell Street: -75%\n",
       "                 </div>`,\n",
       "                {\"sticky\": true}\n",
       "            );\n",
       "        \n",
       "    \n",
       "            var circle_02220d904ee80e37f02a5a381698282e = L.circle(\n",
       "                [37.7796, -122.4137],\n",
       "                {\"bubblingMouseEvents\": true, \"color\": \"crimson\", \"dashArray\": null, \"dashOffset\": null, \"fill\": true, \"fillColor\": \"crimson\", \"fillOpacity\": 0.2, \"fillRule\": \"evenodd\", \"lineCap\": \"round\", \"lineJoin\": \"round\", \"opacity\": 1.0, \"radius\": 295.00998334385116, \"stroke\": true, \"weight\": 3}\n",
       "            ).addTo(map_6f34a3bbabb17f37fff1859cc59366d4);\n",
       "        \n",
       "    \n",
       "            circle_02220d904ee80e37f02a5a381698282e.bindTooltip(\n",
       "                `<div>\n",
       "                     Civic Center: -78%\n",
       "                 </div>`,\n",
       "                {\"sticky\": true}\n",
       "            );\n",
       "        \n",
       "</script>\n",
       "</html>"
      ],
      "text/plain": [
       "<IPython.core.display.HTML object>"
      ]
     },
     "execution_count": 14,
     "metadata": {},
     "output_type": "execute_result"
    }
   ],
   "source": [
    "HTML(\"figures/SF_interactive_map.html\")"
   ]
  },
  {
   "cell_type": "code",
   "execution_count": 15,
   "id": "01ba0dd6-80c3-4f62-a61e-449b114208dd",
   "metadata": {},
   "outputs": [
    {
     "data": {
      "text/html": [
       "<!DOCTYPE html>\n",
       "<html>\n",
       "<head>\n",
       "    \n",
       "    <meta http-equiv=\"content-type\" content=\"text/html; charset=UTF-8\" />\n",
       "    \n",
       "        <script>\n",
       "            L_NO_TOUCH = false;\n",
       "            L_DISABLE_3D = false;\n",
       "        </script>\n",
       "    \n",
       "    <style>html, body {width: 100%;height: 100%;margin: 0;padding: 0;}</style>\n",
       "    <style>#map {position:absolute;top:0;bottom:0;right:0;left:0;}</style>\n",
       "    <script src=\"https://cdn.jsdelivr.net/npm/leaflet@1.9.3/dist/leaflet.js\"></script>\n",
       "    <script src=\"https://code.jquery.com/jquery-1.12.4.min.js\"></script>\n",
       "    <script src=\"https://cdn.jsdelivr.net/npm/bootstrap@5.2.2/dist/js/bootstrap.bundle.min.js\"></script>\n",
       "    <script src=\"https://cdnjs.cloudflare.com/ajax/libs/Leaflet.awesome-markers/2.0.2/leaflet.awesome-markers.js\"></script>\n",
       "    <link rel=\"stylesheet\" href=\"https://cdn.jsdelivr.net/npm/leaflet@1.9.3/dist/leaflet.css\"/>\n",
       "    <link rel=\"stylesheet\" href=\"https://cdn.jsdelivr.net/npm/bootstrap@5.2.2/dist/css/bootstrap.min.css\"/>\n",
       "    <link rel=\"stylesheet\" href=\"https://netdna.bootstrapcdn.com/bootstrap/3.0.0/css/bootstrap.min.css\"/>\n",
       "    <link rel=\"stylesheet\" href=\"https://cdn.jsdelivr.net/npm/@fortawesome/fontawesome-free@6.2.0/css/all.min.css\"/>\n",
       "    <link rel=\"stylesheet\" href=\"https://cdnjs.cloudflare.com/ajax/libs/Leaflet.awesome-markers/2.0.2/leaflet.awesome-markers.css\"/>\n",
       "    <link rel=\"stylesheet\" href=\"https://cdn.jsdelivr.net/gh/python-visualization/folium/folium/templates/leaflet.awesome.rotate.min.css\"/>\n",
       "    \n",
       "            <meta name=\"viewport\" content=\"width=device-width,\n",
       "                initial-scale=1.0, maximum-scale=1.0, user-scalable=no\" />\n",
       "            <style>\n",
       "                #map_a638622b9b94ac194fa28f432dcfbeb7 {\n",
       "                    position: relative;\n",
       "                    width: 100.0%;\n",
       "                    height: 100.0%;\n",
       "                    left: 0.0%;\n",
       "                    top: 0.0%;\n",
       "                }\n",
       "                .leaflet-container { font-size: 1rem; }\n",
       "            </style>\n",
       "        \n",
       "</head>\n",
       "<body>\n",
       "    \n",
       "    \n",
       "            <div class=\"folium-map\" id=\"map_a638622b9b94ac194fa28f432dcfbeb7\" ></div>\n",
       "        \n",
       "</body>\n",
       "<script>\n",
       "    \n",
       "    \n",
       "            var map_a638622b9b94ac194fa28f432dcfbeb7 = L.map(\n",
       "                \"map_a638622b9b94ac194fa28f432dcfbeb7\",\n",
       "                {\n",
       "                    center: [37.8715, -122.273],\n",
       "                    crs: L.CRS.EPSG3857,\n",
       "                    zoom: 15,\n",
       "                    zoomControl: true,\n",
       "                    preferCanvas: false,\n",
       "                }\n",
       "            );\n",
       "\n",
       "            \n",
       "\n",
       "        \n",
       "    \n",
       "            var tile_layer_d2383efecd2f3b04f786733f7dde1568 = L.tileLayer(\n",
       "                \"https://cartodb-basemaps-{s}.global.ssl.fastly.net/light_all/{z}/{x}/{y}.png\",\n",
       "                {\"attribution\": \"\\u0026copy; \\u003ca target=\\\"_blank\\\" href=\\\"http://www.openstreetmap.org/copyright\\\"\\u003eOpenStreetMap\\u003c/a\\u003e contributors \\u0026copy; \\u003ca target=\\\"_blank\\\" href=\\\"http://cartodb.com/attributions\\\"\\u003eCartoDB\\u003c/a\\u003e, CartoDB \\u003ca target=\\\"_blank\\\" href =\\\"http://cartodb.com/attributions\\\"\\u003eattributions\\u003c/a\\u003e\", \"detectRetina\": false, \"maxNativeZoom\": 18, \"maxZoom\": 18, \"minZoom\": 0, \"noWrap\": false, \"opacity\": 1, \"subdomains\": \"abc\", \"tms\": false}\n",
       "            ).addTo(map_a638622b9b94ac194fa28f432dcfbeb7);\n",
       "        \n",
       "    \n",
       "            var circle_d4526a503d9121028b8bcedcd9006dab = L.circle(\n",
       "                [37.8701, -122.2681],\n",
       "                {\"bubblingMouseEvents\": true, \"color\": \"crimson\", \"dashArray\": null, \"dashOffset\": null, \"fill\": true, \"fillColor\": \"crimson\", \"fillOpacity\": 0.2, \"fillRule\": \"evenodd\", \"lineCap\": \"round\", \"lineJoin\": \"round\", \"opacity\": 1.0, \"radius\": 298.37073160901593, \"stroke\": true, \"weight\": 3}\n",
       "            ).addTo(map_a638622b9b94ac194fa28f432dcfbeb7);\n",
       "        \n",
       "    \n",
       "            circle_d4526a503d9121028b8bcedcd9006dab.bindTooltip(\n",
       "                `<div>\n",
       "                     Downtown Berkeley: -75%\n",
       "                 </div>`,\n",
       "                {\"sticky\": true}\n",
       "            );\n",
       "        \n",
       "    \n",
       "            var circle_4a52558cd5a0550bbb84687b9f78bb1f = L.circle(\n",
       "                [37.874, -122.2834],\n",
       "                {\"bubblingMouseEvents\": true, \"color\": \"crimson\", \"dashArray\": null, \"dashOffset\": null, \"fill\": true, \"fillColor\": \"crimson\", \"fillOpacity\": 0.2, \"fillRule\": \"evenodd\", \"lineCap\": \"round\", \"lineJoin\": \"round\", \"opacity\": 1.0, \"radius\": 319.223472724945, \"stroke\": true, \"weight\": 3}\n",
       "            ).addTo(map_a638622b9b94ac194fa28f432dcfbeb7);\n",
       "        \n",
       "    \n",
       "            circle_4a52558cd5a0550bbb84687b9f78bb1f.bindTooltip(\n",
       "                `<div>\n",
       "                     North Berkeley: -80%\n",
       "                 </div>`,\n",
       "                {\"sticky\": true}\n",
       "            );\n",
       "        \n",
       "</script>\n",
       "</html>"
      ],
      "text/plain": [
       "<IPython.core.display.HTML object>"
      ]
     },
     "execution_count": 15,
     "metadata": {},
     "output_type": "execute_result"
    }
   ],
   "source": [
    "HTML(\"figures/berkeley_interactive_map.html\")"
   ]
  },
  {
   "cell_type": "markdown",
   "id": "4278a93e-25d9-4b4b-88d4-9cf8c2c8a8e9",
   "metadata": {
    "tags": [],
    "user_expressions": []
   },
   "source": [
    "## Jingya's plots"
   ]
  },
  {
   "cell_type": "code",
   "execution_count": null,
   "id": "8dbfd94a-268d-4fb6-af3e-0355591b702a",
   "metadata": {},
   "outputs": [],
   "source": []
  },
  {
   "cell_type": "code",
   "execution_count": null,
   "id": "a22af36f-7bd9-493c-ac50-bba633992cf8",
   "metadata": {},
   "outputs": [],
   "source": []
  },
  {
   "cell_type": "markdown",
   "id": "6c33c959-841a-4d9f-9c56-b8706786bdf5",
   "metadata": {
    "user_expressions": []
   },
   "source": [
    "## Shih-hung's plots"
   ]
  },
  {
   "cell_type": "code",
   "execution_count": null,
   "id": "41495f6d-5046-485c-9d12-4e7aa20f89dc",
   "metadata": {},
   "outputs": [],
   "source": []
  },
  {
   "cell_type": "code",
   "execution_count": null,
   "id": "6358fed8-faaf-4e12-8710-da7b9df204fc",
   "metadata": {},
   "outputs": [],
   "source": []
  },
  {
   "cell_type": "markdown",
   "id": "a6a222ee-c8bf-424a-be2a-216b6e64c810",
   "metadata": {
    "user_expressions": []
   },
   "source": [
    "## Jiachen's plots"
   ]
  },
  {
   "cell_type": "code",
   "execution_count": null,
   "id": "401c9cc5-118c-44fe-b8d7-d3930c81ac22",
   "metadata": {},
   "outputs": [],
   "source": []
  },
  {
   "cell_type": "code",
   "execution_count": null,
   "id": "5d49b093-349a-4e6d-88f9-ebb5ab208b73",
   "metadata": {},
   "outputs": [],
   "source": []
  }
 ],
 "metadata": {
  "kernelspec": {
   "display_name": "Python 3 (ipykernel)",
   "language": "python",
   "name": "python3"
  },
  "language_info": {
   "codemirror_mode": {
    "name": "ipython",
    "version": 3
   },
   "file_extension": ".py",
   "mimetype": "text/x-python",
   "name": "python",
   "nbconvert_exporter": "python",
   "pygments_lexer": "ipython3",
   "version": "3.10.8"
  }
 },
 "nbformat": 4,
 "nbformat_minor": 5
}
