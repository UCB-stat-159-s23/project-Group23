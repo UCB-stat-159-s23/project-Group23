{
 "cells": [
  {
   "cell_type": "code",
   "execution_count": 1,
   "id": "45f5ef43-3c9c-410e-8d2a-4b7f76c967c7",
   "metadata": {},
   "outputs": [],
   "source": [
    "from pathlib import Path\n",
    "import numpy as np\n",
    "import pandas as pd\n",
    "import matplotlib.pyplot as plt\n",
    "import seaborn as sns\n",
    "from IPython.display import HTML, Image\n",
    "import warnings\n",
    "import matplotlib.pyplot as plt\n",
    "# ** import our own package here **\n",
    "\n",
    "warnings.filterwarnings(\"ignore\")"
   ]
  },
  {
   "cell_type": "code",
   "execution_count": 2,
   "id": "50bf19ce-f52e-4813-90ea-750e002db141",
   "metadata": {},
   "outputs": [
    {
     "name": "stdout",
     "output_type": "stream",
     "text": [
      "Signing notebook: Mapping_Ridership.ipynb\n"
     ]
    }
   ],
   "source": [
    "!jupyter trust Mapping_Ridership.ipynb"
   ]
  },
  {
   "cell_type": "markdown",
   "id": "066c58d4-680b-4235-a354-2cb29aa4e858",
   "metadata": {
    "tags": []
   },
   "source": [
    "# The Effects of COVID-19 on Bart Ridership"
   ]
  },
  {
   "cell_type": "markdown",
   "id": "1de522d8-9856-4062-a527-f934929043da",
   "metadata": {},
   "source": [
    "# Exploring the Effects of COVID-19 on Bart Commuter Ridership in Downtown San Francisco and Berkeley"
   ]
  },
  {
   "cell_type": "markdown",
   "id": "c9ea1c16-9a14-46db-b6cf-6600c3796671",
   "metadata": {},
   "source": [
    "Authors: Noor Wahle, Jiachen Li, Shih-hung Chiu, Jingya Zhao"
   ]
  },
  {
   "cell_type": "markdown",
   "id": "9fc5d3e9-3ca7-44ae-91f1-1301f0016341",
   "metadata": {},
   "source": [
    "## Introduction"
   ]
  },
  {
   "cell_type": "markdown",
   "id": "4e52bba1-2b08-4fc6-948d-0a08ccf12380",
   "metadata": {},
   "source": [
    "Add background information on bart ridership pre/post COVID-19"
   ]
  },
  {
   "cell_type": "markdown",
   "id": "001ab231-7a4c-4acb-9fea-d0f92eecd90a",
   "metadata": {},
   "source": [
    "## Data Cleaning"
   ]
  },
  {
   "cell_type": "markdown",
   "id": "d7e8d5e0-dc97-4d91-99db-494e1538998f",
   "metadata": {},
   "source": [
    "Data Source: https://www.bart.gov/about/reports/ridership"
   ]
  },
  {
   "cell_type": "markdown",
   "id": "89faadde-54f6-4696-9e7f-79b283559033",
   "metadata": {},
   "source": [
    "Background information on include:\n",
    "- only using weekday data so that we can observe trends in commute\n",
    "- how we divided data into pre/post COVID-19 looking at the last 5 years\n",
    "- used the entry data, not the exit data\n",
    "- what else?"
   ]
  },
  {
   "cell_type": "code",
   "execution_count": 3,
   "id": "9ebd6ea7-0da4-4a69-9f18-f44b3bf6be95",
   "metadata": {},
   "outputs": [],
   "source": [
    "# insert basic cleaning code here"
   ]
  },
  {
   "cell_type": "markdown",
   "id": "4574eb1e-34cc-4aa7-bada-8d1cd4c83df2",
   "metadata": {},
   "source": [
    "## EDA"
   ]
  },
  {
   "cell_type": "markdown",
   "id": "bffa37b9-f23b-42ee-a21a-5bcede4bb1e4",
   "metadata": {
    "tags": []
   },
   "source": [
    "### Mapping"
   ]
  },
  {
   "cell_type": "markdown",
   "id": "ac65ce90-3b03-44f5-9f0f-6b34b877dabd",
   "metadata": {},
   "source": [
    "To begin understanding trends in Bart ridership during COVID-19, we narrowed our focus to two locations: Downtown San Francisco and Bereley. We chose these locations to better understand Bart ridership changed prior to and post COVID-19 specifically for those commuting to and from their workplace. Below, we visualized the percent decline in total ridership for the stations in each location.\n",
    "\n",
    "_**Note:** hover over the circles to view the percent decline in ridership per station._"
   ]
  },
  {
   "cell_type": "markdown",
   "id": "72380266-c9cf-4304-8290-4bb07edafde9",
   "metadata": {},
   "source": [
    "#### Downtown San Francisco"
   ]
  },
  {
   "cell_type": "code",
   "execution_count": 4,
   "id": "59b55bd7-c2fb-42de-973c-56ff57653025",
   "metadata": {},
   "outputs": [
    {
     "data": {
      "text/html": [
       "<!DOCTYPE html>\n",
       "<html>\n",
       "<head>\n",
       "    \n",
       "    <meta http-equiv=\"content-type\" content=\"text/html; charset=UTF-8\" />\n",
       "    \n",
       "        <script>\n",
       "            L_NO_TOUCH = false;\n",
       "            L_DISABLE_3D = false;\n",
       "        </script>\n",
       "    \n",
       "    <style>html, body {width: 100%;height: 100%;margin: 0;padding: 0;}</style>\n",
       "    <style>#map {position:absolute;top:0;bottom:0;right:0;left:0;}</style>\n",
       "    <script src=\"https://cdn.jsdelivr.net/npm/leaflet@1.9.3/dist/leaflet.js\"></script>\n",
       "    <script src=\"https://code.jquery.com/jquery-1.12.4.min.js\"></script>\n",
       "    <script src=\"https://cdn.jsdelivr.net/npm/bootstrap@5.2.2/dist/js/bootstrap.bundle.min.js\"></script>\n",
       "    <script src=\"https://cdnjs.cloudflare.com/ajax/libs/Leaflet.awesome-markers/2.0.2/leaflet.awesome-markers.js\"></script>\n",
       "    <link rel=\"stylesheet\" href=\"https://cdn.jsdelivr.net/npm/leaflet@1.9.3/dist/leaflet.css\"/>\n",
       "    <link rel=\"stylesheet\" href=\"https://cdn.jsdelivr.net/npm/bootstrap@5.2.2/dist/css/bootstrap.min.css\"/>\n",
       "    <link rel=\"stylesheet\" href=\"https://netdna.bootstrapcdn.com/bootstrap/3.0.0/css/bootstrap.min.css\"/>\n",
       "    <link rel=\"stylesheet\" href=\"https://cdn.jsdelivr.net/npm/@fortawesome/fontawesome-free@6.2.0/css/all.min.css\"/>\n",
       "    <link rel=\"stylesheet\" href=\"https://cdnjs.cloudflare.com/ajax/libs/Leaflet.awesome-markers/2.0.2/leaflet.awesome-markers.css\"/>\n",
       "    <link rel=\"stylesheet\" href=\"https://cdn.jsdelivr.net/gh/python-visualization/folium/folium/templates/leaflet.awesome.rotate.min.css\"/>\n",
       "    \n",
       "            <meta name=\"viewport\" content=\"width=device-width,\n",
       "                initial-scale=1.0, maximum-scale=1.0, user-scalable=no\" />\n",
       "            <style>\n",
       "                #map_66381e9398b1c45ee180a8de24487e39 {\n",
       "                    position: relative;\n",
       "                    width: 100.0%;\n",
       "                    height: 100.0%;\n",
       "                    left: 0.0%;\n",
       "                    top: 0.0%;\n",
       "                }\n",
       "                .leaflet-container { font-size: 1rem; }\n",
       "            </style>\n",
       "        \n",
       "</head>\n",
       "<body>\n",
       "    \n",
       "    \n",
       "            <div class=\"folium-map\" id=\"map_66381e9398b1c45ee180a8de24487e39\" ></div>\n",
       "        \n",
       "</body>\n",
       "<script>\n",
       "    \n",
       "    \n",
       "            var map_66381e9398b1c45ee180a8de24487e39 = L.map(\n",
       "                \"map_66381e9398b1c45ee180a8de24487e39\",\n",
       "                {\n",
       "                    center: [37.78656375, -122.4051605],\n",
       "                    crs: L.CRS.EPSG3857,\n",
       "                    zoom: 15,\n",
       "                    zoomControl: true,\n",
       "                    preferCanvas: false,\n",
       "                }\n",
       "            );\n",
       "\n",
       "            \n",
       "\n",
       "        \n",
       "    \n",
       "            var tile_layer_0a6b91c6b16d46497fa711d039bff9d8 = L.tileLayer(\n",
       "                \"https://cartodb-basemaps-{s}.global.ssl.fastly.net/light_all/{z}/{x}/{y}.png\",\n",
       "                {\"attribution\": \"\\u0026copy; \\u003ca target=\\\"_blank\\\" href=\\\"http://www.openstreetmap.org/copyright\\\"\\u003eOpenStreetMap\\u003c/a\\u003e contributors \\u0026copy; \\u003ca target=\\\"_blank\\\" href=\\\"http://cartodb.com/attributions\\\"\\u003eCartoDB\\u003c/a\\u003e, CartoDB \\u003ca target=\\\"_blank\\\" href =\\\"http://cartodb.com/attributions\\\"\\u003eattributions\\u003c/a\\u003e\", \"detectRetina\": false, \"maxNativeZoom\": 18, \"maxZoom\": 18, \"minZoom\": 0, \"noWrap\": false, \"opacity\": 1, \"subdomains\": \"abc\", \"tms\": false}\n",
       "            ).addTo(map_66381e9398b1c45ee180a8de24487e39);\n",
       "        \n",
       "    \n",
       "            var circle_b51b3e5869364bdc080868e873f1499e = L.circle(\n",
       "                [37.7929, -122.397],\n",
       "                {\"bubblingMouseEvents\": true, \"color\": \"crimson\", \"dashArray\": null, \"dashOffset\": null, \"fill\": true, \"fillColor\": \"crimson\", \"fillOpacity\": 0.2, \"fillRule\": \"evenodd\", \"lineCap\": \"round\", \"lineJoin\": \"round\", \"opacity\": 1.0, \"radius\": 172.3493433945421, \"stroke\": true, \"weight\": 3}\n",
       "            ).addTo(map_66381e9398b1c45ee180a8de24487e39);\n",
       "        \n",
       "    \n",
       "            circle_b51b3e5869364bdc080868e873f1499e.bindTooltip(\n",
       "                `<div>\n",
       "                     Embarcadero: -86%\n",
       "                 </div>`,\n",
       "                {\"sticky\": true}\n",
       "            );\n",
       "        \n",
       "    \n",
       "            var circle_e95c66f843aa5af3179a745a7b34b6cd = L.circle(\n",
       "                [37.789355, -122.401942],\n",
       "                {\"bubblingMouseEvents\": true, \"color\": \"crimson\", \"dashArray\": null, \"dashOffset\": null, \"fill\": true, \"fillColor\": \"crimson\", \"fillOpacity\": 0.2, \"fillRule\": \"evenodd\", \"lineCap\": \"round\", \"lineJoin\": \"round\", \"opacity\": 1.0, \"radius\": 176.18052736766316, \"stroke\": true, \"weight\": 3}\n",
       "            ).addTo(map_66381e9398b1c45ee180a8de24487e39);\n",
       "        \n",
       "    \n",
       "            circle_e95c66f843aa5af3179a745a7b34b6cd.bindTooltip(\n",
       "                `<div>\n",
       "                     Montgomery Street: -88%\n",
       "                 </div>`,\n",
       "                {\"sticky\": true}\n",
       "            );\n",
       "        \n",
       "    \n",
       "            var circle_142e7c473f0952e6b2299adc956a98d7 = L.circle(\n",
       "                [37.7844, -122.408],\n",
       "                {\"bubblingMouseEvents\": true, \"color\": \"crimson\", \"dashArray\": null, \"dashOffset\": null, \"fill\": true, \"fillColor\": \"crimson\", \"fillOpacity\": 0.2, \"fillRule\": \"evenodd\", \"lineCap\": \"round\", \"lineJoin\": \"round\", \"opacity\": 1.0, \"radius\": 149.50210134646787, \"stroke\": true, \"weight\": 3}\n",
       "            ).addTo(map_66381e9398b1c45ee180a8de24487e39);\n",
       "        \n",
       "    \n",
       "            circle_142e7c473f0952e6b2299adc956a98d7.bindTooltip(\n",
       "                `<div>\n",
       "                     Powell Street: -75%\n",
       "                 </div>`,\n",
       "                {\"sticky\": true}\n",
       "            );\n",
       "        \n",
       "    \n",
       "            var circle_f95821a13457a80e3f490a577bb4a00d = L.circle(\n",
       "                [37.7796, -122.4137],\n",
       "                {\"bubblingMouseEvents\": true, \"color\": \"crimson\", \"dashArray\": null, \"dashOffset\": null, \"fill\": true, \"fillColor\": \"crimson\", \"fillOpacity\": 0.2, \"fillRule\": \"evenodd\", \"lineCap\": \"round\", \"lineJoin\": \"round\", \"opacity\": 1.0, \"radius\": 155.26841228623744, \"stroke\": true, \"weight\": 3}\n",
       "            ).addTo(map_66381e9398b1c45ee180a8de24487e39);\n",
       "        \n",
       "    \n",
       "            circle_f95821a13457a80e3f490a577bb4a00d.bindTooltip(\n",
       "                `<div>\n",
       "                     Civic Center: -78%\n",
       "                 </div>`,\n",
       "                {\"sticky\": true}\n",
       "            );\n",
       "        \n",
       "</script>\n",
       "</html>"
      ],
      "text/plain": [
       "<IPython.core.display.HTML object>"
      ]
     },
     "execution_count": 4,
     "metadata": {},
     "output_type": "execute_result"
    }
   ],
   "source": [
    "HTML(\"figures/SF_interactive_map.html\")"
   ]
  },
  {
   "cell_type": "markdown",
   "id": "7edf84f9-a52e-4baf-b21e-a03ed903c86f",
   "metadata": {},
   "source": [
    "#### Berkeley"
   ]
  },
  {
   "cell_type": "code",
   "execution_count": 5,
   "id": "01ba0dd6-80c3-4f62-a61e-449b114208dd",
   "metadata": {},
   "outputs": [
    {
     "data": {
      "text/html": [
       "<!DOCTYPE html>\n",
       "<html>\n",
       "<head>\n",
       "    \n",
       "    <meta http-equiv=\"content-type\" content=\"text/html; charset=UTF-8\" />\n",
       "    \n",
       "        <script>\n",
       "            L_NO_TOUCH = false;\n",
       "            L_DISABLE_3D = false;\n",
       "        </script>\n",
       "    \n",
       "    <style>html, body {width: 100%;height: 100%;margin: 0;padding: 0;}</style>\n",
       "    <style>#map {position:absolute;top:0;bottom:0;right:0;left:0;}</style>\n",
       "    <script src=\"https://cdn.jsdelivr.net/npm/leaflet@1.9.3/dist/leaflet.js\"></script>\n",
       "    <script src=\"https://code.jquery.com/jquery-1.12.4.min.js\"></script>\n",
       "    <script src=\"https://cdn.jsdelivr.net/npm/bootstrap@5.2.2/dist/js/bootstrap.bundle.min.js\"></script>\n",
       "    <script src=\"https://cdnjs.cloudflare.com/ajax/libs/Leaflet.awesome-markers/2.0.2/leaflet.awesome-markers.js\"></script>\n",
       "    <link rel=\"stylesheet\" href=\"https://cdn.jsdelivr.net/npm/leaflet@1.9.3/dist/leaflet.css\"/>\n",
       "    <link rel=\"stylesheet\" href=\"https://cdn.jsdelivr.net/npm/bootstrap@5.2.2/dist/css/bootstrap.min.css\"/>\n",
       "    <link rel=\"stylesheet\" href=\"https://netdna.bootstrapcdn.com/bootstrap/3.0.0/css/bootstrap.min.css\"/>\n",
       "    <link rel=\"stylesheet\" href=\"https://cdn.jsdelivr.net/npm/@fortawesome/fontawesome-free@6.2.0/css/all.min.css\"/>\n",
       "    <link rel=\"stylesheet\" href=\"https://cdnjs.cloudflare.com/ajax/libs/Leaflet.awesome-markers/2.0.2/leaflet.awesome-markers.css\"/>\n",
       "    <link rel=\"stylesheet\" href=\"https://cdn.jsdelivr.net/gh/python-visualization/folium/folium/templates/leaflet.awesome.rotate.min.css\"/>\n",
       "    \n",
       "            <meta name=\"viewport\" content=\"width=device-width,\n",
       "                initial-scale=1.0, maximum-scale=1.0, user-scalable=no\" />\n",
       "            <style>\n",
       "                #map_59ac786e2a0d94285a7ed4372b99c07f {\n",
       "                    position: relative;\n",
       "                    width: 100.0%;\n",
       "                    height: 100.0%;\n",
       "                    left: 0.0%;\n",
       "                    top: 0.0%;\n",
       "                }\n",
       "                .leaflet-container { font-size: 1rem; }\n",
       "            </style>\n",
       "        \n",
       "</head>\n",
       "<body>\n",
       "    \n",
       "    \n",
       "            <div class=\"folium-map\" id=\"map_59ac786e2a0d94285a7ed4372b99c07f\" ></div>\n",
       "        \n",
       "</body>\n",
       "<script>\n",
       "    \n",
       "    \n",
       "            var map_59ac786e2a0d94285a7ed4372b99c07f = L.map(\n",
       "                \"map_59ac786e2a0d94285a7ed4372b99c07f\",\n",
       "                {\n",
       "                    center: [37.8715, -122.273],\n",
       "                    crs: L.CRS.EPSG3857,\n",
       "                    zoom: 15,\n",
       "                    zoomControl: true,\n",
       "                    preferCanvas: false,\n",
       "                }\n",
       "            );\n",
       "\n",
       "            \n",
       "\n",
       "        \n",
       "    \n",
       "            var tile_layer_0937d27f9a6f06ce8d2283398c14275f = L.tileLayer(\n",
       "                \"https://cartodb-basemaps-{s}.global.ssl.fastly.net/light_all/{z}/{x}/{y}.png\",\n",
       "                {\"attribution\": \"\\u0026copy; \\u003ca target=\\\"_blank\\\" href=\\\"http://www.openstreetmap.org/copyright\\\"\\u003eOpenStreetMap\\u003c/a\\u003e contributors \\u0026copy; \\u003ca target=\\\"_blank\\\" href=\\\"http://cartodb.com/attributions\\\"\\u003eCartoDB\\u003c/a\\u003e, CartoDB \\u003ca target=\\\"_blank\\\" href =\\\"http://cartodb.com/attributions\\\"\\u003eattributions\\u003c/a\\u003e\", \"detectRetina\": false, \"maxNativeZoom\": 18, \"maxZoom\": 18, \"minZoom\": 0, \"noWrap\": false, \"opacity\": 1, \"subdomains\": \"abc\", \"tms\": false}\n",
       "            ).addTo(map_59ac786e2a0d94285a7ed4372b99c07f);\n",
       "        \n",
       "    \n",
       "            var circle_aae254dd85a42a2b5880f664dc009da7 = L.circle(\n",
       "                [37.8701, -122.2681],\n",
       "                {\"bubblingMouseEvents\": true, \"color\": \"crimson\", \"dashArray\": null, \"dashOffset\": null, \"fill\": true, \"fillColor\": \"crimson\", \"fillOpacity\": 0.2, \"fillRule\": \"evenodd\", \"lineCap\": \"round\", \"lineJoin\": \"round\", \"opacity\": 1.0, \"radius\": 447.5560974135239, \"stroke\": true, \"weight\": 3}\n",
       "            ).addTo(map_59ac786e2a0d94285a7ed4372b99c07f);\n",
       "        \n",
       "    \n",
       "            circle_aae254dd85a42a2b5880f664dc009da7.bindTooltip(\n",
       "                `<div>\n",
       "                     Downtown Berkeley: -75%\n",
       "                 </div>`,\n",
       "                {\"sticky\": true}\n",
       "            );\n",
       "        \n",
       "    \n",
       "            var circle_ca0e65f2d07bbd2f64d8bf6734530a5a = L.circle(\n",
       "                [37.874, -122.2834],\n",
       "                {\"bubblingMouseEvents\": true, \"color\": \"crimson\", \"dashArray\": null, \"dashOffset\": null, \"fill\": true, \"fillColor\": \"crimson\", \"fillOpacity\": 0.2, \"fillRule\": \"evenodd\", \"lineCap\": \"round\", \"lineJoin\": \"round\", \"opacity\": 1.0, \"radius\": 478.8352090874175, \"stroke\": true, \"weight\": 3}\n",
       "            ).addTo(map_59ac786e2a0d94285a7ed4372b99c07f);\n",
       "        \n",
       "    \n",
       "            circle_ca0e65f2d07bbd2f64d8bf6734530a5a.bindTooltip(\n",
       "                `<div>\n",
       "                     North Berkeley: -80%\n",
       "                 </div>`,\n",
       "                {\"sticky\": true}\n",
       "            );\n",
       "        \n",
       "</script>\n",
       "</html>"
      ],
      "text/plain": [
       "<IPython.core.display.HTML object>"
      ]
     },
     "execution_count": 5,
     "metadata": {},
     "output_type": "execute_result"
    }
   ],
   "source": [
    "HTML(\"figures/berkeley_interactive_map.html\")"
   ]
  },
  {
   "cell_type": "markdown",
   "id": "4278a93e-25d9-4b4b-88d4-9cf8c2c8a8e9",
   "metadata": {
    "tags": []
   },
   "source": [
    "## Jingya's plots"
   ]
  },
  {
   "cell_type": "code",
   "execution_count": null,
   "id": "8dbfd94a-268d-4fb6-af3e-0355591b702a",
   "metadata": {},
   "outputs": [],
   "source": []
  },
  {
   "cell_type": "code",
   "execution_count": null,
   "id": "a22af36f-7bd9-493c-ac50-bba633992cf8",
   "metadata": {},
   "outputs": [],
   "source": []
  },
  {
   "cell_type": "markdown",
   "id": "6c33c959-841a-4d9f-9c56-b8706786bdf5",
   "metadata": {},
   "source": [
    "## Analysis of ridership of stations with different land use"
   ]
  },
  {
   "cell_type": "markdown",
   "id": "0ffaf56e-79cc-4c88-93df-52156cdc2a82",
   "metadata": {},
   "source": [
    "This notebook examines the ridership of various important BART stations with different land use over the past five years. A noticeable trend was observed where there was a significant decrease in ridership during the pandemic period regardless of the land use, which began in February 2020. Although people have started returning to their normal lives in 2022, ridership at most stations remains at only 40% of pre-COVID levels. This indicates that the pandemic has had a significant impact on people's way of life. The aim of this study is to compare the ridership patterns before, during, and after the pandemic, with a focus on four specific locations with different land use: 1) San Francisco CBD (commercial land use), 2) Berkeley(academic land use), 3) Oakland(mixed land use), and 4) International Airports(transport land use)."
   ]
  },
  {
   "cell_type": "markdown",
   "id": "3cac4d75-f13d-404e-b4fd-5b9f4dacff74",
   "metadata": {},
   "source": [
    "### 1. San Francisco CBD (Commertial Land Use)"
   ]
  },
  {
   "cell_type": "markdown",
   "id": "d58c3b19-e2e9-44d2-abb7-009929373f76",
   "metadata": {
    "tags": []
   },
   "source": [
    "The pandemic led many companies to implement the \"work from home\" policy, allowing employees to work from anywhere instead of commuting to the office. This policy proved successful for some companies, and many continue to implement it. As a result, this study assumes that the number of people traveling to San Francisco CBD for work significantly decreased during and after the pandemic comparing to pre-COVID time. The plots below show that before the pandemic, the selected BART stations (Embarcadero, Montgomery Street, Powell Street, Civic Center) had 20,000 to 50,000 daily trips. However, although ridership has been increasing since 2020, late 2022 data shows only around 10,000 monthly trips. This indicates that although people may feel that things have returned to normal, the pandemic has altered their commuting patterns."
   ]
  },
  {
   "cell_type": "code",
   "execution_count": 6,
   "id": "62d5ae86-21e3-4d03-b7d0-de2551f2b5f7",
   "metadata": {},
   "outputs": [
    {
     "ename": "AttributeError",
     "evalue": "'function' object has no attribute 'Image'",
     "output_type": "error",
     "traceback": [
      "\u001b[0;31m---------------------------------------------------------------------------\u001b[0m",
      "\u001b[0;31mAttributeError\u001b[0m                            Traceback (most recent call last)",
      "Cell \u001b[0;32mIn[6], line 1\u001b[0m\n\u001b[0;32m----> 1\u001b[0m \u001b[43mdisplay\u001b[49m\u001b[38;5;241;43m.\u001b[39;49m\u001b[43mImage\u001b[49m(\u001b[38;5;124m'\u001b[39m\u001b[38;5;124mfigures/SF CBD Arrival Trip Count.jpg\u001b[39m\u001b[38;5;124m'\u001b[39m)\n",
      "\u001b[0;31mAttributeError\u001b[0m: 'function' object has no attribute 'Image'"
     ]
    }
   ],
   "source": [
    "display.Image('figures/SF CBD Arrival Trip Count.jpg')"
   ]
  },
  {
   "cell_type": "markdown",
   "id": "96ee31ee-aa03-4b6d-bd2a-1d59f856b02e",
   "metadata": {},
   "source": [
    "In the previous sections, we discussed the travel volumes of the stations, but it is not clear how much of a difference there is before and after the pandemic. To address this, in this section, we calculate the arrival trip ratio relative to the peak arrival trip volumes of the past 5 years.\n",
    "\n",
    "To begin, let's look at the stations in San Francisco CBD. It is evident that the number of trips is gradually increasing, but as of late 2022, less than 40% of the peak arrival trip volumes of the past 5 years are observed."
   ]
  },
  {
   "cell_type": "code",
   "execution_count": 12,
   "id": "2020607a-26d8-4f57-94a9-ec4c48e0e0c6",
   "metadata": {},
   "outputs": [],
   "source": [
    "display.Image('figures/SF CBD Arrival Trip Ratio.jpg')"
   ]
  },
  {
   "cell_type": "markdown",
   "id": "9d0480f5-0084-4bbe-8d64-a9ff6520d3b1",
   "metadata": {},
   "source": [
    "### 2. Berkeley (Academic Land Use)"
   ]
  },
  {
   "cell_type": "markdown",
   "id": "54606cd9-a431-442c-952d-8b66d7d3e2fc",
   "metadata": {},
   "source": [
    "It is assumed that the majority of BART passengers in Berkeley, particularly at North Berkeley and Downtown Berkeley stations, are students studying at UC Berkeley. Due to the campus lockdown from 2020-2021, ridership during this period is expected to have been very low. With the reopening of the campus, it is expected that the number of trips would gradually increase back to pre-COVID levels. However, the graph below shows that although a growth trend is observed after the summer of 2021, which is when the campus reopened, the total number of trips is still far below the pre-COVID level."
   ]
  },
  {
   "cell_type": "code",
   "execution_count": 13,
   "id": "0b0b8073-8b04-49f9-96e2-8730bfff18e9",
   "metadata": {},
   "outputs": [],
   "source": [
    "display.Image('figures/Berkeley Arrival Trip Count.jpg')"
   ]
  },
  {
   "cell_type": "markdown",
   "id": "8dceedca-7722-4a82-8a7d-137dfe72dbd9",
   "metadata": {},
   "source": [
    "Next, looking at the stations in Berkeley, the pattern is similar to the one observed above. We were assuming that the ridership growth rate might be faster than the commercial area because students need to go back to campus. However, the ridership in Berkeley does not grow faster comparing to the commercial areas. This might be because of the recording of the classes. After the pandemics, many classes starts to provide lecture recordings that student might not need to go to the campus but can finish the course wherever they can connect to the internet. As a result, the ridership is less comparing to pre-pandemic period.  "
   ]
  },
  {
   "cell_type": "code",
   "execution_count": 15,
   "id": "82c1968e-a1cd-425d-b2fc-6ad6bb7e0319",
   "metadata": {},
   "outputs": [],
   "source": [
    "display.Image('figures/Berkeley Arrival Trip Ratio.jpg')"
   ]
  },
  {
   "cell_type": "markdown",
   "id": "f55abe3e-7df9-4bd4-9957-3d410a363af7",
   "metadata": {},
   "source": [
    "### 3. Oakland (Mixed Land Use)"
   ]
  },
  {
   "cell_type": "markdown",
   "id": "43a07baf-319b-49bf-a3a7-fc7f3549d0cf",
   "metadata": {},
   "source": [
    "\n",
    "Oakland is a major city in the East Bay area with a more complex land use pattern than San Francisco CBD and Berkeley. Unlike the other two locations, Oakland's land use is a mix of both business and residential areas. This study aims to investigate whether this mix-use land use pattern leads to different travel patterns. The graph below shows that despite the different land use, similar trends to the above plots are observed, indicating that the general travel pattern remains the same regardless of land use."
   ]
  },
  {
   "cell_type": "code",
   "execution_count": 16,
   "id": "3373b4a1-fbaa-4e3c-bd03-f92f0bc33c01",
   "metadata": {},
   "outputs": [],
   "source": [
    "display.Image('figures/Oakland Arrival Trip Count.jpg')"
   ]
  },
  {
   "cell_type": "markdown",
   "id": "1c092ca9-1240-4b41-a58a-2221ae0d745e",
   "metadata": {},
   "source": [
    "Similar to the patterns shown above, the ridership rate started to grow after the pandemic. However, the amount of the trips is still far less than pre-COVID level (about 40%). "
   ]
  },
  {
   "cell_type": "code",
   "execution_count": 17,
   "id": "073d543d-00b6-4abb-b94f-8e746ec231a5",
   "metadata": {},
   "outputs": [],
   "source": [
    "display.Image('figures/Oakland Arrival Trip Ratio.jpg')"
   ]
  },
  {
   "cell_type": "markdown",
   "id": "7273fd76-cb45-4c64-adf1-9cc4641030b7",
   "metadata": {},
   "source": [
    "### 4. Airports (Transport Land Use)"
   ]
  },
  {
   "cell_type": "markdown",
   "id": "966cb679-b856-4342-9794-f5d2bcc76b82",
   "metadata": {},
   "source": [
    "Lastly, this study discusses trips to the international airports (Oakland International Airport and San Francisco International Airport). Similar patterns to the previous locations are observed, but with a faster growth rate. This highlights the importance of public transit for international airports, as the majority of passengers are likely foreigners who rely heavily on public transit to reach their destinations."
   ]
  },
  {
   "cell_type": "code",
   "execution_count": 18,
   "id": "390f9e80-4278-455e-a3b4-4d90e180ca42",
   "metadata": {},
   "outputs": [],
   "source": [
    "display.Image('figures/Airports Arrival Trip Count.jpg')"
   ]
  },
  {
   "cell_type": "markdown",
   "id": "97e7277b-7a4d-49b5-8fc9-d2a6097768cd",
   "metadata": {},
   "source": [
    "The stations at the airports show a faster growing pattern than the rest of the stations. This indicates the importance of the connection between public transits."
   ]
  },
  {
   "cell_type": "code",
   "execution_count": 20,
   "id": "e2704bd3-95ca-485a-9e40-667d6c53f29e",
   "metadata": {},
   "outputs": [],
   "source": [
    "display.Image('figures/Airport Arrival Trip Ratio.jpg')"
   ]
  },
  {
   "cell_type": "markdown",
   "id": "a4a33a5e-ea02-4be2-96b9-a9726581c7c0",
   "metadata": {},
   "source": [
    "## Conclusion"
   ]
  },
  {
   "cell_type": "markdown",
   "id": "447cbbb8-1185-4088-8c48-6ecb5ed52e95",
   "metadata": {
    "tags": []
   },
   "source": [
    "The analysis reveals that, compared to the pre-COVID period, the ridership at the majority of stations, regardless of land use, has only recovered to less than 40%. However, there is a notable exception for stations located at airports, where a higher percentage (around 60%) of the ridership has returned. This study highlights the significant changes in people's travel patterns due to various factors such as work-from-home policies or online lectures. However, it also underscores the ongoing demand for public transit connections, particularly at international airports, emphasizing the importance of efficient transportation links in serving travelers' needs."
   ]
  },
  {
   "cell_type": "markdown",
   "id": "a6a222ee-c8bf-424a-be2a-216b6e64c810",
   "metadata": {},
   "source": [
    "## Predicting Future Ridership Patterns After Covid-19 Using Pre-Covid-19 Data"
   ]
  },
  {
   "cell_type": "markdown",
   "id": "bd6fd8bf-d961-4407-8dbc-5870ff6329bf",
   "metadata": {},
   "source": [
    "For this section of the analysis, the focus will be on analyzing the ridership from Downtown Berkeley station (entry station) to Embarcadero station (exit station) pre- and post-pandemic to infer the impact of Covid-19 on people's choice of transportation modes. The reason for selecting these two stations is that, firstly, students constitute the majority of Downtown Berkeley station riders. Because they typically don't own cars, the impact could be much more significant. Secondly, Embarcadero is one of the busiest stations according to BART's website (bart.gov). With the growing popularity of remote working and studying during the pandemic, it is highly likely that the ridership for these two stations has changed drastically. Hypothetically, it may take a long period of time for the ridership to recover back to pre-pandemic levels.\n",
    "\n",
    "*pre-pandemic: before 2020, post-pandemic: after 2020"
   ]
  },
  {
   "cell_type": "markdown",
   "id": "adb76fd8-dab3-459c-a1a5-8b912bb0bafa",
   "metadata": {},
   "source": [
    "### Pre-Pandemic Ridership"
   ]
  },
  {
   "cell_type": "code",
   "execution_count": 12,
   "id": "049fb468-966e-4f96-b23a-9ea8d1005c62",
   "metadata": {},
   "outputs": [],
   "source": [
    "display(Image(filename=\"figures/Berkeley_Embarcadero_2010_2019_Ridership.png\"))"
   ]
  },
  {
   "cell_type": "code",
   "execution_count": 11,
   "id": "c7238e67-3bec-4ccb-b7c3-db9217243ae0",
   "metadata": {},
   "outputs": [],
   "source": [
    "display(Image(filename=\"figures/Berkeley_Embarcadero_2010_2019_Log_Ridership.png\"))"
   ]
  },
  {
   "cell_type": "markdown",
   "id": "719dc52f-9b47-48e0-97f7-ce2beee5be94",
   "metadata": {},
   "source": [
    "Based on the plots above, there appears to be an annual seasonality with the peak around summer and the trough around winter. In general, there is an increasing trend observed throughout 2010-2015, but it gradually declines afterwards. The variance of ridership over time has been steady, although the variances for the years 2014-2016 are larger than those of other years. To standardize the variance of the data, a Log Transformation has been applied."
   ]
  },
  {
   "cell_type": "markdown",
   "id": "cc84f552-a313-4857-8fdf-a53a26af0387",
   "metadata": {},
   "source": [
    "After taking the first order difference, the data is non-stationary with a strong seasonality at the indies of multiples of 12. To minimize the effect of seasonality, another lag difference of 12 is taken. The resulting data gives a much better result in terms of stationarity. Moreover, the p-value of the adfuller test is below 0.05, allowing us to reject the null and conclude that the differenced data is stationary. The data set is then split into training and testing, and a parameter search is performed on the training set to determine the best arima model. "
   ]
  },
  {
   "cell_type": "code",
   "execution_count": 13,
   "id": "b1cc151c-b2c1-4cca-a787-a40f400a1a14",
   "metadata": {},
   "outputs": [],
   "source": [
    "display(Image(filename=\"figures/Berkeley_Embarcadero_2010_2019_Modeling.png\"))"
   ]
  },
  {
   "cell_type": "markdown",
   "id": "12295873-43f1-4b23-bb7d-1aeaa594074b",
   "metadata": {
    "tags": []
   },
   "source": [
    "### Post-Pandemic Ridership"
   ]
  },
  {
   "cell_type": "markdown",
   "id": "3654c564-ff96-4ca5-97bc-ca8420beead2",
   "metadata": {},
   "source": [
    "The extent of influence is calculated by computing the absolute difference between the ridership predicted by the pre-pandemic model and the actual ridership observed in 2021-2022. Since the output value of the pre-pandemic model is logged, the result must be exponentialized for comparison to be feasible."
   ]
  },
  {
   "cell_type": "code",
   "execution_count": 15,
   "id": "04872b8b-9777-4687-b409-653f04ba24ce",
   "metadata": {},
   "outputs": [],
   "source": [
    "display(Image(filename=\"figures/Berkeley_Embarcadero_2021_2022_Prediction_Observation_Comparison.png\"))"
   ]
  },
  {
   "cell_type": "markdown",
   "id": "6862fe59-7f48-4b77-9aa9-a50dad0e733b",
   "metadata": {},
   "source": [
    "### Conclusion"
   ]
  },
  {
   "cell_type": "markdown",
   "id": "8b9a0372-f4b2-4caf-a661-a557c8b1baf1",
   "metadata": {},
   "source": [
    "The difference between the predicted and observed ridership is gradually decreasing, with only a 500-rider average gap expected at the end of 2022. Although the two ridership values will eventually intersect with each other, the current difference implies that Covid-19 has had a significant impact on people's choice of transportation modes. However, it is important to note that the model's training data shows a declining trend after 2015, which means the model could result in negative ridership in the future. The underlying factor that caused the drop remains unknown, but presumably it affected the model's accuracy."
   ]
  },
  {
   "cell_type": "code",
   "execution_count": 16,
   "id": "70fdd328-1144-46fa-be1a-e4a7fc5fdbae",
   "metadata": {},
   "outputs": [],
   "source": [
    "display(Image(filename=\"figures/Berkeley_Embarcadero_2021_2022_Prediction_Observation_Difference.png\"))"
   ]
  }
 ],
 "metadata": {
  "kernelspec": {
   "display_name": "Python 3 (ipykernel)",
   "language": "python",
   "name": "python3"
  },
  "language_info": {
   "codemirror_mode": {
    "name": "ipython",
    "version": 3
   },
   "file_extension": ".py",
   "mimetype": "text/x-python",
   "name": "python",
   "nbconvert_exporter": "python",
   "pygments_lexer": "ipython3",
   "version": "3.10.8"
  }
 },
 "nbformat": 4,
 "nbformat_minor": 5
}
