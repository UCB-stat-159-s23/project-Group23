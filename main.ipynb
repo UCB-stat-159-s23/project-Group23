{
 "cells": [
  {
   "cell_type": "markdown",
   "id": "066c58d4-680b-4235-a354-2cb29aa4e858",
   "metadata": {
    "tags": [],
    "user_expressions": []
   },
   "source": [
    "# The Effects of COVID-19 on Bart Ridership"
   ]
  },
  {
   "cell_type": "markdown",
   "id": "1de522d8-9856-4062-a527-f934929043da",
   "metadata": {
    "user_expressions": []
   },
   "source": [
    "## Noor's plots"
   ]
  },
  {
   "cell_type": "code",
   "execution_count": null,
   "id": "c4546414-ab3d-486b-9bd2-bae8bbf208ee",
   "metadata": {},
   "outputs": [],
   "source": []
  },
  {
   "cell_type": "code",
   "execution_count": null,
   "id": "59b55bd7-c2fb-42de-973c-56ff57653025",
   "metadata": {},
   "outputs": [],
   "source": []
  },
  {
   "cell_type": "markdown",
   "id": "4278a93e-25d9-4b4b-88d4-9cf8c2c8a8e9",
   "metadata": {
    "tags": [],
    "user_expressions": []
   },
   "source": [
    "## Jingya's plots"
   ]
  },
  {
   "cell_type": "code",
   "execution_count": null,
   "id": "8dbfd94a-268d-4fb6-af3e-0355591b702a",
   "metadata": {},
   "outputs": [],
   "source": []
  },
  {
   "cell_type": "code",
   "execution_count": null,
   "id": "a22af36f-7bd9-493c-ac50-bba633992cf8",
   "metadata": {},
   "outputs": [],
   "source": []
  },
  {
   "cell_type": "markdown",
   "id": "6c33c959-841a-4d9f-9c56-b8706786bdf5",
   "metadata": {
    "user_expressions": []
   },
   "source": [
    "## Shih-hung's plots"
   ]
  },
  {
   "cell_type": "code",
   "execution_count": null,
   "id": "41495f6d-5046-485c-9d12-4e7aa20f89dc",
   "metadata": {},
   "outputs": [],
   "source": []
  },
  {
   "cell_type": "code",
   "execution_count": null,
   "id": "6358fed8-faaf-4e12-8710-da7b9df204fc",
   "metadata": {},
   "outputs": [],
   "source": []
  },
  {
   "cell_type": "markdown",
   "id": "a6a222ee-c8bf-424a-be2a-216b6e64c810",
   "metadata": {
    "user_expressions": []
   },
   "source": [
    "## Jiachen's plots"
   ]
  },
  {
   "cell_type": "code",
   "execution_count": null,
   "id": "401c9cc5-118c-44fe-b8d7-d3930c81ac22",
   "metadata": {},
   "outputs": [],
   "source": []
  },
  {
   "cell_type": "code",
   "execution_count": null,
   "id": "5d49b093-349a-4e6d-88f9-ebb5ab208b73",
   "metadata": {},
   "outputs": [],
   "source": []
  }
 ],
 "metadata": {
  "kernelspec": {
   "display_name": "Python 3 (ipykernel)",
   "language": "python",
   "name": "python3"
  },
  "language_info": {
   "codemirror_mode": {
    "name": "ipython",
    "version": 3
   },
   "file_extension": ".py",
   "mimetype": "text/x-python",
   "name": "python",
   "nbconvert_exporter": "python",
   "pygments_lexer": "ipython3",
   "version": "3.10.8"
  }
 },
 "nbformat": 4,
 "nbformat_minor": 5
}
