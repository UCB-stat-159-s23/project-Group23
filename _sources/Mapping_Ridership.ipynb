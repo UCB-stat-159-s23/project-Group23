{
 "cells": [
  {
   "cell_type": "code",
   "execution_count": 17,
   "id": "81442747-11d1-4535-82cb-6b102cdaec97",
   "metadata": {},
   "outputs": [
    {
     "name": "stdout",
     "output_type": "stream",
     "text": [
      "Requirement already satisfied: openpyxl in /srv/conda/envs/notebook/lib/python3.10/site-packages (3.1.2)\n",
      "Requirement already satisfied: et-xmlfile in /srv/conda/envs/notebook/lib/python3.10/site-packages (from openpyxl) (1.1.0)\n"
     ]
    }
   ],
   "source": [
    "!pip install openpyxl"
   ]
  },
  {
   "cell_type": "code",
   "execution_count": 18,
   "id": "24c3a7b1-3135-4353-948b-4331ceae0c4e",
   "metadata": {},
   "outputs": [],
   "source": [
    "import numpy as np\n",
    "import pandas as pd\n",
    "import folium\n",
    "from project_tools.utils import annual_arrival_trips, calc_stn_perc_diffs, add_markers_to_map\n",
    "\n",
    "pd.set_option('display.max_columns', None)"
   ]
  },
  {
   "cell_type": "markdown",
   "id": "355bef62-9712-4d74-8229-28a6568668f2",
   "metadata": {
    "user_expressions": []
   },
   "source": [
    "## Import data"
   ]
  },
  {
   "cell_type": "markdown",
   "id": "d50487c1-34a0-4859-8fdc-0f48c4db67dd",
   "metadata": {
    "user_expressions": []
   },
   "source": [
    "#### San Francisco"
   ]
  },
  {
   "cell_type": "code",
   "execution_count": 19,
   "id": "bafb47f4-e86b-459f-ab77-0b3fa982050e",
   "metadata": {},
   "outputs": [],
   "source": [
    "# SF CBD Ridership 2018 - 2022\n",
    "\n",
    "station = ['EM','MT', 'PL', 'CC']\n",
    "\n",
    "# 2018\n",
    "SF_2018 = annual_arrival_trips(year=['2018'], station=station)\n",
    "\n",
    "# 2019\n",
    "SF_2019 = annual_arrival_trips(year=['2019'], station=station)\n",
    "\n",
    "# 2020\n",
    "SF_2020 = annual_arrival_trips(year=['2020'], station=station)\n",
    "\n",
    "# 2021\n",
    "SF_2021 = annual_arrival_trips(year=['2021'], station=station)\n",
    "\n",
    "# 2022\n",
    "SF_2022 = annual_arrival_trips(year=['2022'], station=station)\n",
    "\n",
    "SF_pre_covid = pd.concat([SF_2018, SF_2019])\n",
    "SF_post_covid = pd.concat([SF_2021, SF_2022])"
   ]
  },
  {
   "cell_type": "markdown",
   "id": "20a04a8c-8d48-43f5-80e4-ac6228de732c",
   "metadata": {
    "user_expressions": []
   },
   "source": [
    "#### Berkeley"
   ]
  },
  {
   "cell_type": "code",
   "execution_count": 20,
   "id": "54427ba5-54e0-44a8-a6eb-8410130473b8",
   "metadata": {},
   "outputs": [],
   "source": [
    "# Berkeley Ridership 2018 - 2022\n",
    "\n",
    "station = ['BK', 'NB']\n",
    "\n",
    "# 2018\n",
    "berk_2018 = annual_arrival_trips(year=['2018'], station=station)\n",
    "\n",
    "# 2019\n",
    "berk_2019 = annual_arrival_trips(year=['2019'], station=station)\n",
    "\n",
    "# 2020\n",
    "berk_2020 = annual_arrival_trips(year=['2020'], station=station)\n",
    "\n",
    "# 2021\n",
    "berk_2021 = annual_arrival_trips(year=['2021'], station=station)\n",
    "\n",
    "# 2022\n",
    "berk_2022 = annual_arrival_trips(year=['2022'], station=station)\n",
    "\n",
    "berk_pre_covid = pd.concat([berk_2018, berk_2019])\n",
    "berk_post_covid = pd.concat([berk_2021, berk_2022])"
   ]
  },
  {
   "cell_type": "markdown",
   "id": "c1edbf30-4687-4006-a353-b9720bbfd7f1",
   "metadata": {
    "user_expressions": []
   },
   "source": [
    "## Mapping"
   ]
  },
  {
   "cell_type": "markdown",
   "id": "f29bd342-8cf4-4862-8233-b85e619d17fd",
   "metadata": {
    "user_expressions": []
   },
   "source": [
    "### San Francisco"
   ]
  },
  {
   "cell_type": "markdown",
   "id": "8956652b-de79-4400-99f5-87aa27c2a797",
   "metadata": {
    "user_expressions": []
   },
   "source": [
    "#### Calculate total percent difference pre and post COVID data for each station"
   ]
  },
  {
   "cell_type": "code",
   "execution_count": 21,
   "id": "4ffb201e-89b1-47a3-9252-4146eea8ef36",
   "metadata": {},
   "outputs": [
    {
     "data": {
      "text/plain": [
       "EM   -80.286914\n",
       "MT   -83.726798\n",
       "PL   -71.324288\n",
       "CC   -74.465633\n",
       "dtype: float64"
      ]
     },
     "execution_count": 21,
     "metadata": {},
     "output_type": "execute_result"
    }
   ],
   "source": [
    "SF_percent_diffs = calc_stn_perc_diffs(SF_pre_covid, SF_post_covid)\n",
    "SF_percent_diffs"
   ]
  },
  {
   "cell_type": "markdown",
   "id": "2db4da36-2845-4727-b576-a12a6ef47e66",
   "metadata": {
    "user_expressions": []
   },
   "source": [
    "#### Plot percent differences on map"
   ]
  },
  {
   "cell_type": "markdown",
   "id": "056b25c6-5456-4613-be50-3c7fb4c47fb9",
   "metadata": {
    "user_expressions": []
   },
   "source": [
    "_Source: https://www.python-graph-gallery.com/313-bubble-map-with-folium_"
   ]
  },
  {
   "cell_type": "code",
   "execution_count": 22,
   "id": "cc6fcaf1-20bf-4ba6-9b3c-6e81b577b60a",
   "metadata": {},
   "outputs": [],
   "source": [
    "# Make an empty map\n",
    "\n",
    "SF_map = folium.Map(location=[37.78656375,-122.4051605], tiles=\"cartodbpositron\", zoom_start=15)"
   ]
  },
  {
   "cell_type": "code",
   "execution_count": 23,
   "id": "25fd3eca-adbc-4db5-8320-01a4b56668f7",
   "metadata": {},
   "outputs": [
    {
     "data": {
      "text/html": [
       "<div>\n",
       "<style scoped>\n",
       "    .dataframe tbody tr th:only-of-type {\n",
       "        vertical-align: middle;\n",
       "    }\n",
       "\n",
       "    .dataframe tbody tr th {\n",
       "        vertical-align: top;\n",
       "    }\n",
       "\n",
       "    .dataframe thead th {\n",
       "        text-align: right;\n",
       "    }\n",
       "</style>\n",
       "<table border=\"1\" class=\"dataframe\">\n",
       "  <thead>\n",
       "    <tr style=\"text-align: right;\">\n",
       "      <th></th>\n",
       "      <th>lon</th>\n",
       "      <th>lat</th>\n",
       "      <th>name</th>\n",
       "      <th>value</th>\n",
       "    </tr>\n",
       "  </thead>\n",
       "  <tbody>\n",
       "    <tr>\n",
       "      <th>EM</th>\n",
       "      <td>-122.397</td>\n",
       "      <td>37.7929</td>\n",
       "      <td>Embarcadero: -80%</td>\n",
       "      <td>-80.28691449189998</td>\n",
       "    </tr>\n",
       "    <tr>\n",
       "      <th>MT</th>\n",
       "      <td>-122.401942</td>\n",
       "      <td>37.789355</td>\n",
       "      <td>Montgomery Street: -84%</td>\n",
       "      <td>-83.72679842311616</td>\n",
       "    </tr>\n",
       "    <tr>\n",
       "      <th>PL</th>\n",
       "      <td>-122.408</td>\n",
       "      <td>37.7844</td>\n",
       "      <td>Powell Street: -71%</td>\n",
       "      <td>-71.324287661421</td>\n",
       "    </tr>\n",
       "    <tr>\n",
       "      <th>CC</th>\n",
       "      <td>-122.4137</td>\n",
       "      <td>37.7796</td>\n",
       "      <td>Civic Center: -74%</td>\n",
       "      <td>-74.46563267662663</td>\n",
       "    </tr>\n",
       "  </tbody>\n",
       "</table>\n",
       "</div>"
      ],
      "text/plain": [
       "            lon        lat                     name               value\n",
       "EM     -122.397    37.7929        Embarcadero: -80%  -80.28691449189998\n",
       "MT  -122.401942  37.789355  Montgomery Street: -84%  -83.72679842311616\n",
       "PL     -122.408    37.7844      Powell Street: -71%    -71.324287661421\n",
       "CC    -122.4137    37.7796       Civic Center: -74%  -74.46563267662663"
      ]
     },
     "execution_count": 23,
     "metadata": {},
     "output_type": "execute_result"
    }
   ],
   "source": [
    "# Make a data frame with dots to show on the map\n",
    "\n",
    "SF_mapping_df = pd.DataFrame({\n",
    "   'lon':[-122.3970, -122.401942, -122.4080, -122.4137],\n",
    "   'lat':[37.7929, 37.789355, 37.7844, 37.7796],\n",
    "   'name':['Embarcadero: '+str(round(SF_percent_diffs[0]))+'%', \n",
    "           'Montgomery Street: '+str(round(SF_percent_diffs[1]))+'%',\n",
    "           'Powell Street: '+str(round(SF_percent_diffs[2]))+'%',\n",
    "           'Civic Center: '+str(round(SF_percent_diffs[3]))+'%'],\n",
    "   'value': SF_percent_diffs\n",
    "}, dtype=str)\n",
    "\n",
    "SF_mapping_df"
   ]
  },
  {
   "cell_type": "code",
   "execution_count": 24,
   "id": "4b630688-30c0-4aab-878c-36117ba70378",
   "metadata": {},
   "outputs": [
    {
     "data": {
      "text/html": [
       "<div style=\"width:100%;\"><div style=\"position:relative;width:100%;height:0;padding-bottom:60%;\"><span style=\"color:#565656\">Make this Notebook Trusted to load map: File -> Trust Notebook</span><iframe srcdoc=\"&lt;!DOCTYPE html&gt;\n",
       "&lt;html&gt;\n",
       "&lt;head&gt;\n",
       "    \n",
       "    &lt;meta http-equiv=&quot;content-type&quot; content=&quot;text/html; charset=UTF-8&quot; /&gt;\n",
       "    \n",
       "        &lt;script&gt;\n",
       "            L_NO_TOUCH = false;\n",
       "            L_DISABLE_3D = false;\n",
       "        &lt;/script&gt;\n",
       "    \n",
       "    &lt;style&gt;html, body {width: 100%;height: 100%;margin: 0;padding: 0;}&lt;/style&gt;\n",
       "    &lt;style&gt;#map {position:absolute;top:0;bottom:0;right:0;left:0;}&lt;/style&gt;\n",
       "    &lt;script src=&quot;https://cdn.jsdelivr.net/npm/leaflet@1.9.3/dist/leaflet.js&quot;&gt;&lt;/script&gt;\n",
       "    &lt;script src=&quot;https://code.jquery.com/jquery-1.12.4.min.js&quot;&gt;&lt;/script&gt;\n",
       "    &lt;script src=&quot;https://cdn.jsdelivr.net/npm/bootstrap@5.2.2/dist/js/bootstrap.bundle.min.js&quot;&gt;&lt;/script&gt;\n",
       "    &lt;script src=&quot;https://cdnjs.cloudflare.com/ajax/libs/Leaflet.awesome-markers/2.0.2/leaflet.awesome-markers.js&quot;&gt;&lt;/script&gt;\n",
       "    &lt;link rel=&quot;stylesheet&quot; href=&quot;https://cdn.jsdelivr.net/npm/leaflet@1.9.3/dist/leaflet.css&quot;/&gt;\n",
       "    &lt;link rel=&quot;stylesheet&quot; href=&quot;https://cdn.jsdelivr.net/npm/bootstrap@5.2.2/dist/css/bootstrap.min.css&quot;/&gt;\n",
       "    &lt;link rel=&quot;stylesheet&quot; href=&quot;https://netdna.bootstrapcdn.com/bootstrap/3.0.0/css/bootstrap.min.css&quot;/&gt;\n",
       "    &lt;link rel=&quot;stylesheet&quot; href=&quot;https://cdn.jsdelivr.net/npm/@fortawesome/fontawesome-free@6.2.0/css/all.min.css&quot;/&gt;\n",
       "    &lt;link rel=&quot;stylesheet&quot; href=&quot;https://cdnjs.cloudflare.com/ajax/libs/Leaflet.awesome-markers/2.0.2/leaflet.awesome-markers.css&quot;/&gt;\n",
       "    &lt;link rel=&quot;stylesheet&quot; href=&quot;https://cdn.jsdelivr.net/gh/python-visualization/folium/folium/templates/leaflet.awesome.rotate.min.css&quot;/&gt;\n",
       "    \n",
       "            &lt;meta name=&quot;viewport&quot; content=&quot;width=device-width,\n",
       "                initial-scale=1.0, maximum-scale=1.0, user-scalable=no&quot; /&gt;\n",
       "            &lt;style&gt;\n",
       "                #map_0ea21e29897bf8d9c01e6502f0dd22cd {\n",
       "                    position: relative;\n",
       "                    width: 100.0%;\n",
       "                    height: 100.0%;\n",
       "                    left: 0.0%;\n",
       "                    top: 0.0%;\n",
       "                }\n",
       "                .leaflet-container { font-size: 1rem; }\n",
       "            &lt;/style&gt;\n",
       "        \n",
       "&lt;/head&gt;\n",
       "&lt;body&gt;\n",
       "    \n",
       "    \n",
       "            &lt;div class=&quot;folium-map&quot; id=&quot;map_0ea21e29897bf8d9c01e6502f0dd22cd&quot; &gt;&lt;/div&gt;\n",
       "        \n",
       "&lt;/body&gt;\n",
       "&lt;script&gt;\n",
       "    \n",
       "    \n",
       "            var map_0ea21e29897bf8d9c01e6502f0dd22cd = L.map(\n",
       "                &quot;map_0ea21e29897bf8d9c01e6502f0dd22cd&quot;,\n",
       "                {\n",
       "                    center: [37.78656375, -122.4051605],\n",
       "                    crs: L.CRS.EPSG3857,\n",
       "                    zoom: 15,\n",
       "                    zoomControl: true,\n",
       "                    preferCanvas: false,\n",
       "                }\n",
       "            );\n",
       "\n",
       "            \n",
       "\n",
       "        \n",
       "    \n",
       "            var tile_layer_2c70ce7ae4004f34b191d72d06fe09e4 = L.tileLayer(\n",
       "                &quot;https://cartodb-basemaps-{s}.global.ssl.fastly.net/light_all/{z}/{x}/{y}.png&quot;,\n",
       "                {&quot;attribution&quot;: &quot;\\u0026copy; \\u003ca target=\\&quot;_blank\\&quot; href=\\&quot;http://www.openstreetmap.org/copyright\\&quot;\\u003eOpenStreetMap\\u003c/a\\u003e contributors \\u0026copy; \\u003ca target=\\&quot;_blank\\&quot; href=\\&quot;http://cartodb.com/attributions\\&quot;\\u003eCartoDB\\u003c/a\\u003e, CartoDB \\u003ca target=\\&quot;_blank\\&quot; href =\\&quot;http://cartodb.com/attributions\\&quot;\\u003eattributions\\u003c/a\\u003e&quot;, &quot;detectRetina&quot;: false, &quot;maxNativeZoom&quot;: 18, &quot;maxZoom&quot;: 18, &quot;minZoom&quot;: 0, &quot;noWrap&quot;: false, &quot;opacity&quot;: 1, &quot;subdomains&quot;: &quot;abc&quot;, &quot;tms&quot;: false}\n",
       "            ).addTo(map_0ea21e29897bf8d9c01e6502f0dd22cd);\n",
       "        \n",
       "    \n",
       "            var circle_d81044649188fae82a88c67d20fa9646 = L.circle(\n",
       "                [37.7929, -122.397],\n",
       "                {&quot;bubblingMouseEvents&quot;: true, &quot;color&quot;: &quot;crimson&quot;, &quot;dashArray&quot;: null, &quot;dashOffset&quot;: null, &quot;fill&quot;: true, &quot;fillColor&quot;: &quot;crimson&quot;, &quot;fillOpacity&quot;: 0.2, &quot;fillRule&quot;: &quot;evenodd&quot;, &quot;lineCap&quot;: &quot;round&quot;, &quot;lineJoin&quot;: &quot;round&quot;, &quot;opacity&quot;: 1.0, &quot;radius&quot;: 160.57382898379996, &quot;stroke&quot;: true, &quot;weight&quot;: 3}\n",
       "            ).addTo(map_0ea21e29897bf8d9c01e6502f0dd22cd);\n",
       "        \n",
       "    \n",
       "            circle_d81044649188fae82a88c67d20fa9646.bindTooltip(\n",
       "                `&lt;div&gt;\n",
       "                     Embarcadero: -80%\n",
       "                 &lt;/div&gt;`,\n",
       "                {&quot;sticky&quot;: true}\n",
       "            );\n",
       "        \n",
       "    \n",
       "            var circle_9031fd62d94f4127b62dae901ce5a08c = L.circle(\n",
       "                [37.789355, -122.401942],\n",
       "                {&quot;bubblingMouseEvents&quot;: true, &quot;color&quot;: &quot;crimson&quot;, &quot;dashArray&quot;: null, &quot;dashOffset&quot;: null, &quot;fill&quot;: true, &quot;fillColor&quot;: &quot;crimson&quot;, &quot;fillOpacity&quot;: 0.2, &quot;fillRule&quot;: &quot;evenodd&quot;, &quot;lineCap&quot;: &quot;round&quot;, &quot;lineJoin&quot;: &quot;round&quot;, &quot;opacity&quot;: 1.0, &quot;radius&quot;: 167.45359684623233, &quot;stroke&quot;: true, &quot;weight&quot;: 3}\n",
       "            ).addTo(map_0ea21e29897bf8d9c01e6502f0dd22cd);\n",
       "        \n",
       "    \n",
       "            circle_9031fd62d94f4127b62dae901ce5a08c.bindTooltip(\n",
       "                `&lt;div&gt;\n",
       "                     Montgomery Street: -84%\n",
       "                 &lt;/div&gt;`,\n",
       "                {&quot;sticky&quot;: true}\n",
       "            );\n",
       "        \n",
       "    \n",
       "            var circle_4fac2c5bc5c9c1adcaaa42d3540729ee = L.circle(\n",
       "                [37.7844, -122.408],\n",
       "                {&quot;bubblingMouseEvents&quot;: true, &quot;color&quot;: &quot;crimson&quot;, &quot;dashArray&quot;: null, &quot;dashOffset&quot;: null, &quot;fill&quot;: true, &quot;fillColor&quot;: &quot;crimson&quot;, &quot;fillOpacity&quot;: 0.2, &quot;fillRule&quot;: &quot;evenodd&quot;, &quot;lineCap&quot;: &quot;round&quot;, &quot;lineJoin&quot;: &quot;round&quot;, &quot;opacity&quot;: 1.0, &quot;radius&quot;: 142.648575322842, &quot;stroke&quot;: true, &quot;weight&quot;: 3}\n",
       "            ).addTo(map_0ea21e29897bf8d9c01e6502f0dd22cd);\n",
       "        \n",
       "    \n",
       "            circle_4fac2c5bc5c9c1adcaaa42d3540729ee.bindTooltip(\n",
       "                `&lt;div&gt;\n",
       "                     Powell Street: -71%\n",
       "                 &lt;/div&gt;`,\n",
       "                {&quot;sticky&quot;: true}\n",
       "            );\n",
       "        \n",
       "    \n",
       "            var circle_f7760d7fb2ef5a6cb6c67fc5daacf4e4 = L.circle(\n",
       "                [37.7796, -122.4137],\n",
       "                {&quot;bubblingMouseEvents&quot;: true, &quot;color&quot;: &quot;crimson&quot;, &quot;dashArray&quot;: null, &quot;dashOffset&quot;: null, &quot;fill&quot;: true, &quot;fillColor&quot;: &quot;crimson&quot;, &quot;fillOpacity&quot;: 0.2, &quot;fillRule&quot;: &quot;evenodd&quot;, &quot;lineCap&quot;: &quot;round&quot;, &quot;lineJoin&quot;: &quot;round&quot;, &quot;opacity&quot;: 1.0, &quot;radius&quot;: 148.93126535325325, &quot;stroke&quot;: true, &quot;weight&quot;: 3}\n",
       "            ).addTo(map_0ea21e29897bf8d9c01e6502f0dd22cd);\n",
       "        \n",
       "    \n",
       "            circle_f7760d7fb2ef5a6cb6c67fc5daacf4e4.bindTooltip(\n",
       "                `&lt;div&gt;\n",
       "                     Civic Center: -74%\n",
       "                 &lt;/div&gt;`,\n",
       "                {&quot;sticky&quot;: true}\n",
       "            );\n",
       "        \n",
       "&lt;/script&gt;\n",
       "&lt;/html&gt;\" style=\"position:absolute;width:100%;height:100%;left:0;top:0;border:none !important;\" allowfullscreen webkitallowfullscreen mozallowfullscreen></iframe></div></div>"
      ],
      "text/plain": [
       "<folium.folium.Map at 0x7fa0c1bc1ab0>"
      ]
     },
     "execution_count": 24,
     "metadata": {},
     "output_type": "execute_result"
    }
   ],
   "source": [
    "# Add markers for ridership percent change to the map\n",
    "\n",
    "add_markers_to_map(SF_mapping_df, 2, 'crimson', SF_map)"
   ]
  },
  {
   "cell_type": "code",
   "execution_count": 25,
   "id": "64756651-6e92-4058-a2ab-1763d7f7f613",
   "metadata": {},
   "outputs": [],
   "source": [
    "# Save map file to figures/\n",
    "\n",
    "SF_map.save('figures/SF_interactive_map.html')"
   ]
  },
  {
   "cell_type": "markdown",
   "id": "2687793f-d6f5-481e-9fe6-3afc82344dbb",
   "metadata": {
    "user_expressions": []
   },
   "source": [
    "### Berkeley"
   ]
  },
  {
   "cell_type": "markdown",
   "id": "0f30ecfa-54b2-4b3d-9249-32fb3aea5cb1",
   "metadata": {
    "user_expressions": []
   },
   "source": [
    "#### Calculate total percent difference pre and post COVID data for each station"
   ]
  },
  {
   "cell_type": "code",
   "execution_count": 26,
   "id": "adbef98f-7d6e-496e-9876-6b115fac2a17",
   "metadata": {},
   "outputs": [],
   "source": [
    "berk_percent_diffs = calc_stn_perc_diffs(berk_pre_covid, berk_post_covid)"
   ]
  },
  {
   "cell_type": "markdown",
   "id": "9a5ca7ce-b2c8-4a13-8182-c6203a01e5b2",
   "metadata": {
    "user_expressions": []
   },
   "source": [
    "#### Plot percent differences on map"
   ]
  },
  {
   "cell_type": "code",
   "execution_count": 27,
   "id": "9bc8c6a5-e4b7-4f40-9561-fcfa4cdcb850",
   "metadata": {},
   "outputs": [],
   "source": [
    "# Make an empty map\n",
    "\n",
    "berk_map = folium.Map(location=[37.8715, -122.2730], tiles=\"cartodbpositron\", zoom_start=15)"
   ]
  },
  {
   "cell_type": "code",
   "execution_count": 28,
   "id": "b38210a5-5d46-4cd0-9ade-d02c53e1039f",
   "metadata": {},
   "outputs": [
    {
     "data": {
      "text/html": [
       "<div>\n",
       "<style scoped>\n",
       "    .dataframe tbody tr th:only-of-type {\n",
       "        vertical-align: middle;\n",
       "    }\n",
       "\n",
       "    .dataframe tbody tr th {\n",
       "        vertical-align: top;\n",
       "    }\n",
       "\n",
       "    .dataframe thead th {\n",
       "        text-align: right;\n",
       "    }\n",
       "</style>\n",
       "<table border=\"1\" class=\"dataframe\">\n",
       "  <thead>\n",
       "    <tr style=\"text-align: right;\">\n",
       "      <th></th>\n",
       "      <th>lon</th>\n",
       "      <th>lat</th>\n",
       "      <th>name</th>\n",
       "      <th>value</th>\n",
       "    </tr>\n",
       "  </thead>\n",
       "  <tbody>\n",
       "    <tr>\n",
       "      <th>BK</th>\n",
       "      <td>-122.2681</td>\n",
       "      <td>37.8701</td>\n",
       "      <td>Downtown Berkeley: -71%</td>\n",
       "      <td>-71.31931489489757</td>\n",
       "    </tr>\n",
       "    <tr>\n",
       "      <th>NB</th>\n",
       "      <td>-122.2834</td>\n",
       "      <td>37.874</td>\n",
       "      <td>North Berkeley: -75%</td>\n",
       "      <td>-74.7577029417424</td>\n",
       "    </tr>\n",
       "  </tbody>\n",
       "</table>\n",
       "</div>"
      ],
      "text/plain": [
       "          lon      lat                     name               value\n",
       "BK  -122.2681  37.8701  Downtown Berkeley: -71%  -71.31931489489757\n",
       "NB  -122.2834   37.874     North Berkeley: -75%   -74.7577029417424"
      ]
     },
     "execution_count": 28,
     "metadata": {},
     "output_type": "execute_result"
    }
   ],
   "source": [
    "# Make a data frame with dots to show on the map\n",
    "\n",
    "berk_mapping_df = pd.DataFrame({\n",
    "   'lon':[-122.2681, -122.2834],\n",
    "   'lat':[37.8701, 37.8740],\n",
    "   'name':['Downtown Berkeley: '+str(round(berk_percent_diffs[0]))+'%', \n",
    "           'North Berkeley: '+str(round(berk_percent_diffs[1]))+'%'],\n",
    "   'value': berk_percent_diffs}, dtype=str)\n",
    "\n",
    "berk_mapping_df"
   ]
  },
  {
   "cell_type": "code",
   "execution_count": 29,
   "id": "b70dda80-f5f5-4bcd-a147-3c2854c11bd9",
   "metadata": {},
   "outputs": [
    {
     "data": {
      "text/html": [
       "<div style=\"width:100%;\"><div style=\"position:relative;width:100%;height:0;padding-bottom:60%;\"><span style=\"color:#565656\">Make this Notebook Trusted to load map: File -> Trust Notebook</span><iframe srcdoc=\"&lt;!DOCTYPE html&gt;\n",
       "&lt;html&gt;\n",
       "&lt;head&gt;\n",
       "    \n",
       "    &lt;meta http-equiv=&quot;content-type&quot; content=&quot;text/html; charset=UTF-8&quot; /&gt;\n",
       "    \n",
       "        &lt;script&gt;\n",
       "            L_NO_TOUCH = false;\n",
       "            L_DISABLE_3D = false;\n",
       "        &lt;/script&gt;\n",
       "    \n",
       "    &lt;style&gt;html, body {width: 100%;height: 100%;margin: 0;padding: 0;}&lt;/style&gt;\n",
       "    &lt;style&gt;#map {position:absolute;top:0;bottom:0;right:0;left:0;}&lt;/style&gt;\n",
       "    &lt;script src=&quot;https://cdn.jsdelivr.net/npm/leaflet@1.9.3/dist/leaflet.js&quot;&gt;&lt;/script&gt;\n",
       "    &lt;script src=&quot;https://code.jquery.com/jquery-1.12.4.min.js&quot;&gt;&lt;/script&gt;\n",
       "    &lt;script src=&quot;https://cdn.jsdelivr.net/npm/bootstrap@5.2.2/dist/js/bootstrap.bundle.min.js&quot;&gt;&lt;/script&gt;\n",
       "    &lt;script src=&quot;https://cdnjs.cloudflare.com/ajax/libs/Leaflet.awesome-markers/2.0.2/leaflet.awesome-markers.js&quot;&gt;&lt;/script&gt;\n",
       "    &lt;link rel=&quot;stylesheet&quot; href=&quot;https://cdn.jsdelivr.net/npm/leaflet@1.9.3/dist/leaflet.css&quot;/&gt;\n",
       "    &lt;link rel=&quot;stylesheet&quot; href=&quot;https://cdn.jsdelivr.net/npm/bootstrap@5.2.2/dist/css/bootstrap.min.css&quot;/&gt;\n",
       "    &lt;link rel=&quot;stylesheet&quot; href=&quot;https://netdna.bootstrapcdn.com/bootstrap/3.0.0/css/bootstrap.min.css&quot;/&gt;\n",
       "    &lt;link rel=&quot;stylesheet&quot; href=&quot;https://cdn.jsdelivr.net/npm/@fortawesome/fontawesome-free@6.2.0/css/all.min.css&quot;/&gt;\n",
       "    &lt;link rel=&quot;stylesheet&quot; href=&quot;https://cdnjs.cloudflare.com/ajax/libs/Leaflet.awesome-markers/2.0.2/leaflet.awesome-markers.css&quot;/&gt;\n",
       "    &lt;link rel=&quot;stylesheet&quot; href=&quot;https://cdn.jsdelivr.net/gh/python-visualization/folium/folium/templates/leaflet.awesome.rotate.min.css&quot;/&gt;\n",
       "    \n",
       "            &lt;meta name=&quot;viewport&quot; content=&quot;width=device-width,\n",
       "                initial-scale=1.0, maximum-scale=1.0, user-scalable=no&quot; /&gt;\n",
       "            &lt;style&gt;\n",
       "                #map_593579d5b283382b80ba41230fe95f41 {\n",
       "                    position: relative;\n",
       "                    width: 100.0%;\n",
       "                    height: 100.0%;\n",
       "                    left: 0.0%;\n",
       "                    top: 0.0%;\n",
       "                }\n",
       "                .leaflet-container { font-size: 1rem; }\n",
       "            &lt;/style&gt;\n",
       "        \n",
       "&lt;/head&gt;\n",
       "&lt;body&gt;\n",
       "    \n",
       "    \n",
       "            &lt;div class=&quot;folium-map&quot; id=&quot;map_593579d5b283382b80ba41230fe95f41&quot; &gt;&lt;/div&gt;\n",
       "        \n",
       "&lt;/body&gt;\n",
       "&lt;script&gt;\n",
       "    \n",
       "    \n",
       "            var map_593579d5b283382b80ba41230fe95f41 = L.map(\n",
       "                &quot;map_593579d5b283382b80ba41230fe95f41&quot;,\n",
       "                {\n",
       "                    center: [37.8715, -122.273],\n",
       "                    crs: L.CRS.EPSG3857,\n",
       "                    zoom: 15,\n",
       "                    zoomControl: true,\n",
       "                    preferCanvas: false,\n",
       "                }\n",
       "            );\n",
       "\n",
       "            \n",
       "\n",
       "        \n",
       "    \n",
       "            var tile_layer_03a6144a0eae8da96813ec6c8fc09bba = L.tileLayer(\n",
       "                &quot;https://cartodb-basemaps-{s}.global.ssl.fastly.net/light_all/{z}/{x}/{y}.png&quot;,\n",
       "                {&quot;attribution&quot;: &quot;\\u0026copy; \\u003ca target=\\&quot;_blank\\&quot; href=\\&quot;http://www.openstreetmap.org/copyright\\&quot;\\u003eOpenStreetMap\\u003c/a\\u003e contributors \\u0026copy; \\u003ca target=\\&quot;_blank\\&quot; href=\\&quot;http://cartodb.com/attributions\\&quot;\\u003eCartoDB\\u003c/a\\u003e, CartoDB \\u003ca target=\\&quot;_blank\\&quot; href =\\&quot;http://cartodb.com/attributions\\&quot;\\u003eattributions\\u003c/a\\u003e&quot;, &quot;detectRetina&quot;: false, &quot;maxNativeZoom&quot;: 18, &quot;maxZoom&quot;: 18, &quot;minZoom&quot;: 0, &quot;noWrap&quot;: false, &quot;opacity&quot;: 1, &quot;subdomains&quot;: &quot;abc&quot;, &quot;tms&quot;: false}\n",
       "            ).addTo(map_593579d5b283382b80ba41230fe95f41);\n",
       "        \n",
       "    \n",
       "            var circle_46f5011b58a7a2a2de8da5a2de796ff4 = L.circle(\n",
       "                [37.8701, -122.2681],\n",
       "                {&quot;bubblingMouseEvents&quot;: true, &quot;color&quot;: &quot;teal&quot;, &quot;dashArray&quot;: null, &quot;dashOffset&quot;: null, &quot;fill&quot;: true, &quot;fillColor&quot;: &quot;teal&quot;, &quot;fillOpacity&quot;: 0.2, &quot;fillRule&quot;: &quot;evenodd&quot;, &quot;lineCap&quot;: &quot;round&quot;, &quot;lineJoin&quot;: &quot;round&quot;, &quot;opacity&quot;: 1.0, &quot;radius&quot;: 427.91588936938547, &quot;stroke&quot;: true, &quot;weight&quot;: 3}\n",
       "            ).addTo(map_593579d5b283382b80ba41230fe95f41);\n",
       "        \n",
       "    \n",
       "            circle_46f5011b58a7a2a2de8da5a2de796ff4.bindTooltip(\n",
       "                `&lt;div&gt;\n",
       "                     Downtown Berkeley: -71%\n",
       "                 &lt;/div&gt;`,\n",
       "                {&quot;sticky&quot;: true}\n",
       "            );\n",
       "        \n",
       "    \n",
       "            var circle_59f3208aae821edb9d38aeae73e0d0c8 = L.circle(\n",
       "                [37.874, -122.2834],\n",
       "                {&quot;bubblingMouseEvents&quot;: true, &quot;color&quot;: &quot;teal&quot;, &quot;dashArray&quot;: null, &quot;dashOffset&quot;: null, &quot;fill&quot;: true, &quot;fillColor&quot;: &quot;teal&quot;, &quot;fillOpacity&quot;: 0.2, &quot;fillRule&quot;: &quot;evenodd&quot;, &quot;lineCap&quot;: &quot;round&quot;, &quot;lineJoin&quot;: &quot;round&quot;, &quot;opacity&quot;: 1.0, &quot;radius&quot;: 448.54621765045437, &quot;stroke&quot;: true, &quot;weight&quot;: 3}\n",
       "            ).addTo(map_593579d5b283382b80ba41230fe95f41);\n",
       "        \n",
       "    \n",
       "            circle_59f3208aae821edb9d38aeae73e0d0c8.bindTooltip(\n",
       "                `&lt;div&gt;\n",
       "                     North Berkeley: -75%\n",
       "                 &lt;/div&gt;`,\n",
       "                {&quot;sticky&quot;: true}\n",
       "            );\n",
       "        \n",
       "&lt;/script&gt;\n",
       "&lt;/html&gt;\" style=\"position:absolute;width:100%;height:100%;left:0;top:0;border:none !important;\" allowfullscreen webkitallowfullscreen mozallowfullscreen></iframe></div></div>"
      ],
      "text/plain": [
       "<folium.folium.Map at 0x7fa0c1892800>"
      ]
     },
     "execution_count": 29,
     "metadata": {},
     "output_type": "execute_result"
    }
   ],
   "source": [
    "# Add markers for ridership percent change to the map\n",
    "\n",
    "add_markers_to_map(berk_mapping_df, 6, 'teal', berk_map)"
   ]
  },
  {
   "cell_type": "code",
   "execution_count": 30,
   "id": "17d662f2-892f-455e-8ded-cd0dcff61c78",
   "metadata": {},
   "outputs": [],
   "source": [
    "# Save map file to figures/\n",
    "\n",
    "berk_map.save('figures/berkeley_interactive_map.html')"
   ]
  },
  {
   "cell_type": "code",
   "execution_count": null,
   "id": "2a3b4738-1d6a-4586-867a-d776fc379327",
   "metadata": {},
   "outputs": [],
   "source": []
  }
 ],
 "metadata": {
  "kernelspec": {
   "display_name": "Python 3 (ipykernel)",
   "language": "python",
   "name": "python3"
  },
  "language_info": {
   "codemirror_mode": {
    "name": "ipython",
    "version": 3
   },
   "file_extension": ".py",
   "mimetype": "text/x-python",
   "name": "python",
   "nbconvert_exporter": "python",
   "pygments_lexer": "ipython3",
   "version": "3.10.8"
  }
 },
 "nbformat": 4,
 "nbformat_minor": 5
}
