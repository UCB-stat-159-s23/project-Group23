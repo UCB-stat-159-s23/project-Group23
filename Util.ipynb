{
 "cells": [
  {
   "cell_type": "markdown",
   "metadata": {},
   "source": [
    "# Utility Functions\n",
    "\n",
    "This Notebook contains utility functions used in data analysis process. "
   ]
  },
  {
   "cell_type": "markdown",
   "metadata": {},
   "source": [
    "## Extract Month and Year from Filename with Regular Expression"
   ]
  },
  {
   "cell_type": "code",
   "execution_count": 2,
   "metadata": {},
   "outputs": [],
   "source": [
    "import re\n",
    "\n",
    "month_mapping = {\n",
    "    \"January\": 1,\n",
    "    \"February\": 2,\n",
    "    \"March\": 3,\n",
    "    \"April\": 4,\n",
    "    \"May\": 5,\n",
    "    \"June\": 6,\n",
    "    \"July\": 7,\n",
    "    \"August\": 8,\n",
    "    \"September\": 9,\n",
    "    \"October\": 10,\n",
    "    \"November\": 11,\n",
    "    \"December\": 12\n",
    "}\n",
    "\n",
    "def getMonthAndYear(filename):\n",
    "    \"\"\"\n",
    "    This function extract Year and Month from filename with regular expression.\n",
    "    Parameter: \n",
    "    filename (String): The name of the data file, \"Ridership_202105.xlsx\" for instance.\n",
    "    Returns:\n",
    "    (year, month): return the extracted year and month as a pair.\n",
    "    \"\"\"\n",
    "    match1 = re.search(r'Ridership_(\\d{4})(\\d{2})', filename)\n",
    "    match2 = re.search(r'Ridership_([A-Za-z]+)(\\d{4})', filename)\n",
    "    year, month = -1, -1\n",
    "    if match1:\n",
    "        year = int(match1.group(1))\n",
    "        month = int(match1.group(2))\n",
    "    elif match2:\n",
    "        year = int(match2.group(2))\n",
    "        month = month_mapping[match2.group(1)]\n",
    "    else:\n",
    "        print(\"File name: \" + filename + \" does not fit any regular expression patterns\")\n",
    "    return year, month"
   ]
  },
  {
   "cell_type": "code",
   "execution_count": 3,
   "metadata": {},
   "outputs": [
    {
     "name": "stdout",
     "output_type": "stream",
     "text": [
      "(2021, 5)\n",
      "(2022, 4)\n"
     ]
    }
   ],
   "source": [
    "## Here is a sample run for the above utility function\n",
    "filename1 = \"Ridership_202105.xlsx\"\n",
    "filename2 = \"Ridership_April2022.xlsx\"\n",
    "\n",
    "print(getMonthAndYear(filename1)) # expect(2021, 5)\n",
    "print(getMonthAndYear(filename2)) # expect(2022, 4)"
   ]
  }
 ],
 "metadata": {
  "kernelspec": {
   "display_name": "Python 3 (ipykernel)",
   "language": "python",
   "name": "python3"
  },
  "language_info": {
   "codemirror_mode": {
    "name": "ipython",
    "version": 3
   },
   "file_extension": ".py",
   "mimetype": "text/x-python",
   "name": "python",
   "nbconvert_exporter": "python",
   "pygments_lexer": "ipython3",
   "version": "3.10.8"
  }
 },
 "nbformat": 4,
 "nbformat_minor": 4
}
